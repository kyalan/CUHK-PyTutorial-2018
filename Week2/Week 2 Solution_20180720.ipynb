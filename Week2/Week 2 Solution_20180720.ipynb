{
 "cells": [
  {
   "cell_type": "markdown",
   "metadata": {},
   "source": [
    "# Theme: Low-cost Ticket Mining"
   ]
  },
  {
   "cell_type": "markdown",
   "metadata": {},
   "source": [
    "Skyscanner <br>\n",
    "https://www.skyscanner.com.hk/"
   ]
  },
  {
   "cell_type": "markdown",
   "metadata": {},
   "source": [
    "# The Series Data Structure"
   ]
  },
  {
   "cell_type": "code",
   "execution_count": 2,
   "metadata": {},
   "outputs": [],
   "source": [
    "import pandas as pd"
   ]
  },
  {
   "cell_type": "code",
   "execution_count": 3,
   "metadata": {},
   "outputs": [
    {
     "data": {
      "text/plain": [
       "0    First Class\n",
       "1       Business\n",
       "2        Economy\n",
       "dtype: object"
      ]
     },
     "execution_count": 3,
     "metadata": {},
     "output_type": "execute_result"
    }
   ],
   "source": [
    "cabins = ['First Class', 'Business', 'Economy']\n",
    "pd.Series(cabins)"
   ]
  },
  {
   "cell_type": "code",
   "execution_count": 4,
   "metadata": {},
   "outputs": [
    {
     "data": {
      "text/plain": [
       "0    1\n",
       "1    2\n",
       "2    3\n",
       "dtype: int64"
      ]
     },
     "execution_count": 4,
     "metadata": {},
     "output_type": "execute_result"
    }
   ],
   "source": [
    "numbers = [1, 2, 3]\n",
    "pd.Series(numbers)"
   ]
  },
  {
   "cell_type": "code",
   "execution_count": 5,
   "metadata": {},
   "outputs": [
    {
     "data": {
      "text/plain": [
       "0        None\n",
       "1    Business\n",
       "2     Economy\n",
       "dtype: object"
      ]
     },
     "execution_count": 5,
     "metadata": {},
     "output_type": "execute_result"
    }
   ],
   "source": [
    "cabins = [None, 'Business', 'Economy']\n",
    "pd.Series(cabins)"
   ]
  },
  {
   "cell_type": "code",
   "execution_count": 6,
   "metadata": {},
   "outputs": [
    {
     "data": {
      "text/plain": [
       "0    NaN\n",
       "1    2.0\n",
       "2    3.0\n",
       "dtype: float64"
      ]
     },
     "execution_count": 6,
     "metadata": {},
     "output_type": "execute_result"
    }
   ],
   "source": [
    "numbers = [None, 2, 3]\n",
    "pd.Series(numbers)"
   ]
  },
  {
   "cell_type": "code",
   "execution_count": 7,
   "metadata": {},
   "outputs": [
    {
     "data": {
      "text/plain": [
       "False"
      ]
     },
     "execution_count": 7,
     "metadata": {},
     "output_type": "execute_result"
    }
   ],
   "source": [
    "import numpy as np\n",
    "np.nan == None"
   ]
  },
  {
   "cell_type": "code",
   "execution_count": 8,
   "metadata": {},
   "outputs": [
    {
     "data": {
      "text/plain": [
       "False"
      ]
     },
     "execution_count": 8,
     "metadata": {},
     "output_type": "execute_result"
    }
   ],
   "source": [
    "np.nan == np.nan"
   ]
  },
  {
   "cell_type": "code",
   "execution_count": 9,
   "metadata": {},
   "outputs": [
    {
     "data": {
      "text/plain": [
       "True"
      ]
     },
     "execution_count": 9,
     "metadata": {},
     "output_type": "execute_result"
    }
   ],
   "source": [
    "np.isnan(np.nan)"
   ]
  },
  {
   "cell_type": "code",
   "execution_count": 10,
   "metadata": {},
   "outputs": [
    {
     "data": {
      "text/plain": [
       "CI       Taipei\n",
       "CX    Hong Kong\n",
       "NH        Tokyo\n",
       "SQ    Singapore\n",
       "dtype: object"
      ]
     },
     "execution_count": 10,
     "metadata": {},
     "output_type": "execute_result"
    }
   ],
   "source": [
    "hub_cities = {'CX': 'Hong Kong',\n",
    "          'CI': 'Taipei',\n",
    "          'NH': 'Tokyo',\n",
    "          'SQ': 'Singapore'}\n",
    "s = pd.Series(hub_cities)\n",
    "s"
   ]
  },
  {
   "cell_type": "code",
   "execution_count": 11,
   "metadata": {},
   "outputs": [
    {
     "data": {
      "text/plain": [
       "Index(['CI', 'CX', 'NH', 'SQ'], dtype='object')"
      ]
     },
     "execution_count": 11,
     "metadata": {},
     "output_type": "execute_result"
    }
   ],
   "source": [
    "s.index"
   ]
  },
  {
   "cell_type": "code",
   "execution_count": 12,
   "metadata": {},
   "outputs": [
    {
     "data": {
      "text/plain": [
       "CI       Taipei\n",
       "CX    Hong Kong\n",
       "NH        Tokyo\n",
       "dtype: object"
      ]
     },
     "execution_count": 12,
     "metadata": {},
     "output_type": "execute_result"
    }
   ],
   "source": [
    "s = pd.Series(['Taipei', 'Hong Kong', 'Tokyo'], index=['CI', 'CX', 'NH'])\n",
    "s"
   ]
  },
  {
   "cell_type": "code",
   "execution_count": 13,
   "metadata": {},
   "outputs": [
    {
     "data": {
      "text/plain": [
       "CX    Hong Kong\n",
       "CI       Taipei\n",
       "NH        Tokyo\n",
       "dtype: object"
      ]
     },
     "execution_count": 13,
     "metadata": {},
     "output_type": "execute_result"
    }
   ],
   "source": [
    "hub_cities = {'CX': 'Hong Kong',\n",
    "          'CI': 'Taipei',\n",
    "          'NH': 'Tokyo',\n",
    "          'SQ': 'Singapore'}\n",
    "s = pd.Series(hub_cities, index=['CX', 'CI', 'NH'])\n",
    "s"
   ]
  },
  {
   "cell_type": "markdown",
   "metadata": {},
   "source": [
    "# Exercise 1"
   ]
  },
  {
   "cell_type": "markdown",
   "metadata": {},
   "source": [
    "Create a Series object: Airline names, with IATA code as index <br>\n",
    "KA = Cathay Dragon ; BR = Eva Air ; JL = Japan Airlies ; KE = Korean Air"
   ]
  },
  {
   "cell_type": "code",
   "execution_count": 40,
   "metadata": {},
   "outputs": [
    {
     "ename": "NameError",
     "evalue": "name 'airlies' is not defined",
     "output_type": "error",
     "traceback": [
      "\u001b[1;31m---------------------------------------------------------------------------\u001b[0m",
      "\u001b[1;31mNameError\u001b[0m                                 Traceback (most recent call last)",
      "\u001b[1;32m<ipython-input-40-e7547a224308>\u001b[0m in \u001b[0;36m<module>\u001b[1;34m()\u001b[0m\n\u001b[0;32m      1\u001b[0m \u001b[0mairlines\u001b[0m \u001b[1;33m=\u001b[0m \u001b[1;33m{\u001b[0m\u001b[1;34m'KA'\u001b[0m\u001b[1;33m:\u001b[0m\u001b[1;34m'Cathay Dragon'\u001b[0m \u001b[1;33m,\u001b[0m \u001b[1;34m'BR'\u001b[0m\u001b[1;33m:\u001b[0m\u001b[1;34m'Eva Air'\u001b[0m \u001b[1;33m,\u001b[0m \u001b[1;34m'JL'\u001b[0m\u001b[1;33m:\u001b[0m\u001b[1;34m'Japan Airlies'\u001b[0m \u001b[1;33m,\u001b[0m \u001b[1;34m'KE'\u001b[0m\u001b[1;33m:\u001b[0m\u001b[1;34m'Korean Air'\u001b[0m\u001b[1;33m}\u001b[0m\u001b[1;33m\u001b[0m\u001b[0m\n\u001b[1;32m----> 2\u001b[1;33m \u001b[0ms\u001b[0m \u001b[1;33m=\u001b[0m \u001b[0mpd\u001b[0m\u001b[1;33m.\u001b[0m\u001b[0mSeries\u001b[0m\u001b[1;33m(\u001b[0m\u001b[0mairlies\u001b[0m\u001b[1;33m)\u001b[0m\u001b[1;33m\u001b[0m\u001b[0m\n\u001b[0m\u001b[0;32m      3\u001b[0m \u001b[0ms\u001b[0m\u001b[1;33m\u001b[0m\u001b[0m\n",
      "\u001b[1;31mNameError\u001b[0m: name 'airlies' is not defined"
     ]
    }
   ],
   "source": [
    "airlines = {'KA':'Cathay Dragon' , 'BR':'Eva Air' , 'JL':'Japan Airlies' , 'KE':'Korean Air'}\n",
    "s = pd.Series(airlies)\n",
    "s"
   ]
  },
  {
   "cell_type": "markdown",
   "metadata": {},
   "source": [
    "# Querying a Series"
   ]
  },
  {
   "cell_type": "code",
   "execution_count": 15,
   "metadata": {},
   "outputs": [
    {
     "data": {
      "text/plain": [
       "CI       Taipei\n",
       "CX    Hong Kong\n",
       "NH        Tokyo\n",
       "SQ    Singapore\n",
       "dtype: object"
      ]
     },
     "execution_count": 15,
     "metadata": {},
     "output_type": "execute_result"
    }
   ],
   "source": [
    "hub_cities = {'CX': 'Hong Kong',\n",
    "          'CI': 'Taipei',\n",
    "          'NH': 'Tokyo',\n",
    "          'SQ': 'Singapore'}\n",
    "s = pd.Series(hub_cities)\n",
    "s"
   ]
  },
  {
   "cell_type": "code",
   "execution_count": 16,
   "metadata": {},
   "outputs": [
    {
     "data": {
      "text/plain": [
       "'Singapore'"
      ]
     },
     "execution_count": 16,
     "metadata": {},
     "output_type": "execute_result"
    }
   ],
   "source": [
    "s.iloc[3]"
   ]
  },
  {
   "cell_type": "code",
   "execution_count": 17,
   "metadata": {},
   "outputs": [
    {
     "data": {
      "text/plain": [
       "'Tokyo'"
      ]
     },
     "execution_count": 17,
     "metadata": {},
     "output_type": "execute_result"
    }
   ],
   "source": [
    "s.loc['NH']"
   ]
  },
  {
   "cell_type": "code",
   "execution_count": 18,
   "metadata": {},
   "outputs": [
    {
     "data": {
      "text/plain": [
       "'Singapore'"
      ]
     },
     "execution_count": 18,
     "metadata": {},
     "output_type": "execute_result"
    }
   ],
   "source": [
    "s[3]"
   ]
  },
  {
   "cell_type": "code",
   "execution_count": 19,
   "metadata": {},
   "outputs": [
    {
     "data": {
      "text/plain": [
       "'Tokyo'"
      ]
     },
     "execution_count": 19,
     "metadata": {},
     "output_type": "execute_result"
    }
   ],
   "source": [
    "s['NH']"
   ]
  },
  {
   "cell_type": "code",
   "execution_count": 20,
   "metadata": {},
   "outputs": [],
   "source": [
    "hub_cities = {99: 'Hong Kong',\n",
    "          100: 'Taipei',\n",
    "          101: 'Tokyo',\n",
    "          102: 'Singapore'}\n",
    "s = pd.Series(hub_cities)"
   ]
  },
  {
   "cell_type": "code",
   "execution_count": 21,
   "metadata": {
    "scrolled": true
   },
   "outputs": [
    {
     "ename": "KeyError",
     "evalue": "0",
     "output_type": "error",
     "traceback": [
      "\u001b[1;31m---------------------------------------------------------------------------\u001b[0m",
      "\u001b[1;31mKeyError\u001b[0m                                  Traceback (most recent call last)",
      "\u001b[1;32m<ipython-input-21-00fa51989f14>\u001b[0m in \u001b[0;36m<module>\u001b[1;34m()\u001b[0m\n\u001b[1;32m----> 1\u001b[1;33m \u001b[0ms\u001b[0m\u001b[1;33m[\u001b[0m\u001b[1;36m0\u001b[0m\u001b[1;33m]\u001b[0m \u001b[1;31m#This won't call s.iloc[0] as one might expect, it generates an error instead\u001b[0m\u001b[1;33m\u001b[0m\u001b[0m\n\u001b[0m",
      "\u001b[1;32mC:\\ProgramData\\Anaconda3\\lib\\site-packages\\pandas\\core\\series.py\u001b[0m in \u001b[0;36m__getitem__\u001b[1;34m(self, key)\u001b[0m\n\u001b[0;32m    621\u001b[0m         \u001b[0mkey\u001b[0m \u001b[1;33m=\u001b[0m \u001b[0mcom\u001b[0m\u001b[1;33m.\u001b[0m\u001b[0m_apply_if_callable\u001b[0m\u001b[1;33m(\u001b[0m\u001b[0mkey\u001b[0m\u001b[1;33m,\u001b[0m \u001b[0mself\u001b[0m\u001b[1;33m)\u001b[0m\u001b[1;33m\u001b[0m\u001b[0m\n\u001b[0;32m    622\u001b[0m         \u001b[1;32mtry\u001b[0m\u001b[1;33m:\u001b[0m\u001b[1;33m\u001b[0m\u001b[0m\n\u001b[1;32m--> 623\u001b[1;33m             \u001b[0mresult\u001b[0m \u001b[1;33m=\u001b[0m \u001b[0mself\u001b[0m\u001b[1;33m.\u001b[0m\u001b[0mindex\u001b[0m\u001b[1;33m.\u001b[0m\u001b[0mget_value\u001b[0m\u001b[1;33m(\u001b[0m\u001b[0mself\u001b[0m\u001b[1;33m,\u001b[0m \u001b[0mkey\u001b[0m\u001b[1;33m)\u001b[0m\u001b[1;33m\u001b[0m\u001b[0m\n\u001b[0m\u001b[0;32m    624\u001b[0m \u001b[1;33m\u001b[0m\u001b[0m\n\u001b[0;32m    625\u001b[0m             \u001b[1;32mif\u001b[0m \u001b[1;32mnot\u001b[0m \u001b[0mis_scalar\u001b[0m\u001b[1;33m(\u001b[0m\u001b[0mresult\u001b[0m\u001b[1;33m)\u001b[0m\u001b[1;33m:\u001b[0m\u001b[1;33m\u001b[0m\u001b[0m\n",
      "\u001b[1;32mC:\\ProgramData\\Anaconda3\\lib\\site-packages\\pandas\\core\\indexes\\base.py\u001b[0m in \u001b[0;36mget_value\u001b[1;34m(self, series, key)\u001b[0m\n\u001b[0;32m   2558\u001b[0m         \u001b[1;32mtry\u001b[0m\u001b[1;33m:\u001b[0m\u001b[1;33m\u001b[0m\u001b[0m\n\u001b[0;32m   2559\u001b[0m             return self._engine.get_value(s, k,\n\u001b[1;32m-> 2560\u001b[1;33m                                           tz=getattr(series.dtype, 'tz', None))\n\u001b[0m\u001b[0;32m   2561\u001b[0m         \u001b[1;32mexcept\u001b[0m \u001b[0mKeyError\u001b[0m \u001b[1;32mas\u001b[0m \u001b[0me1\u001b[0m\u001b[1;33m:\u001b[0m\u001b[1;33m\u001b[0m\u001b[0m\n\u001b[0;32m   2562\u001b[0m             \u001b[1;32mif\u001b[0m \u001b[0mlen\u001b[0m\u001b[1;33m(\u001b[0m\u001b[0mself\u001b[0m\u001b[1;33m)\u001b[0m \u001b[1;33m>\u001b[0m \u001b[1;36m0\u001b[0m \u001b[1;32mand\u001b[0m \u001b[0mself\u001b[0m\u001b[1;33m.\u001b[0m\u001b[0minferred_type\u001b[0m \u001b[1;32min\u001b[0m \u001b[1;33m[\u001b[0m\u001b[1;34m'integer'\u001b[0m\u001b[1;33m,\u001b[0m \u001b[1;34m'boolean'\u001b[0m\u001b[1;33m]\u001b[0m\u001b[1;33m:\u001b[0m\u001b[1;33m\u001b[0m\u001b[0m\n",
      "\u001b[1;32mpandas/_libs/index.pyx\u001b[0m in \u001b[0;36mpandas._libs.index.IndexEngine.get_value\u001b[1;34m()\u001b[0m\n",
      "\u001b[1;32mpandas/_libs/index.pyx\u001b[0m in \u001b[0;36mpandas._libs.index.IndexEngine.get_value\u001b[1;34m()\u001b[0m\n",
      "\u001b[1;32mpandas/_libs/index.pyx\u001b[0m in \u001b[0;36mpandas._libs.index.IndexEngine.get_loc\u001b[1;34m()\u001b[0m\n",
      "\u001b[1;32mpandas/_libs/hashtable_class_helper.pxi\u001b[0m in \u001b[0;36mpandas._libs.hashtable.Int64HashTable.get_item\u001b[1;34m()\u001b[0m\n",
      "\u001b[1;32mpandas/_libs/hashtable_class_helper.pxi\u001b[0m in \u001b[0;36mpandas._libs.hashtable.Int64HashTable.get_item\u001b[1;34m()\u001b[0m\n",
      "\u001b[1;31mKeyError\u001b[0m: 0"
     ]
    }
   ],
   "source": [
    "s[0] #This won't call s.iloc[0] as one might expect, it generates an error instead"
   ]
  },
  {
   "cell_type": "code",
   "execution_count": 22,
   "metadata": {},
   "outputs": [
    {
     "data": {
      "text/plain": [
       "'Singapore'"
      ]
     },
     "execution_count": 22,
     "metadata": {},
     "output_type": "execute_result"
    }
   ],
   "source": [
    "s[102]"
   ]
  },
  {
   "cell_type": "code",
   "execution_count": 23,
   "metadata": {},
   "outputs": [
    {
     "data": {
      "text/plain": [
       "0    145.0\n",
       "1     88.0\n",
       "2    221.0\n",
       "3    125.0\n",
       "dtype: float64"
      ]
     },
     "execution_count": 23,
     "metadata": {},
     "output_type": "execute_result"
    }
   ],
   "source": [
    "s = pd.Series([145.00, 88.00, 221.00, 125.00])\n",
    "s"
   ]
  },
  {
   "cell_type": "code",
   "execution_count": 24,
   "metadata": {},
   "outputs": [
    {
     "name": "stdout",
     "output_type": "stream",
     "text": [
      "579.0\n"
     ]
    }
   ],
   "source": [
    "total = 0\n",
    "for item in s:\n",
    "    total+=item\n",
    "print(total)"
   ]
  },
  {
   "cell_type": "code",
   "execution_count": 25,
   "metadata": {},
   "outputs": [
    {
     "name": "stdout",
     "output_type": "stream",
     "text": [
      "579.0\n"
     ]
    }
   ],
   "source": [
    "import numpy as np\n",
    "\n",
    "total = np.sum(s)\n",
    "print(total)"
   ]
  },
  {
   "cell_type": "code",
   "execution_count": 26,
   "metadata": {},
   "outputs": [
    {
     "data": {
      "text/plain": [
       "0    945\n",
       "1    899\n",
       "2    813\n",
       "3    752\n",
       "4    809\n",
       "dtype: int32"
      ]
     },
     "execution_count": 26,
     "metadata": {},
     "output_type": "execute_result"
    }
   ],
   "source": [
    "#this creates a big series of random numbers\n",
    "s = pd.Series(np.random.randint(0,1000,10000))\n",
    "s.head()"
   ]
  },
  {
   "cell_type": "code",
   "execution_count": 27,
   "metadata": {},
   "outputs": [
    {
     "data": {
      "text/plain": [
       "10000"
      ]
     },
     "execution_count": 27,
     "metadata": {},
     "output_type": "execute_result"
    }
   ],
   "source": [
    "len(s)"
   ]
  },
  {
   "cell_type": "code",
   "execution_count": 28,
   "metadata": {},
   "outputs": [
    {
     "name": "stdout",
     "output_type": "stream",
     "text": [
      "718 µs ± 113 µs per loop (mean ± std. dev. of 7 runs, 100 loops each)\n"
     ]
    }
   ],
   "source": [
    "%%timeit -n 100\n",
    "summary = 0\n",
    "for item in s:\n",
    "    summary+=item"
   ]
  },
  {
   "cell_type": "code",
   "execution_count": 29,
   "metadata": {},
   "outputs": [
    {
     "name": "stdout",
     "output_type": "stream",
     "text": [
      "138 µs ± 22 µs per loop (mean ± std. dev. of 7 runs, 100 loops each)\n"
     ]
    }
   ],
   "source": [
    "%%timeit -n 100\n",
    "summary = np.sum(s)"
   ]
  },
  {
   "cell_type": "code",
   "execution_count": 30,
   "metadata": {},
   "outputs": [
    {
     "data": {
      "text/plain": [
       "0    947\n",
       "1    901\n",
       "2    815\n",
       "3    754\n",
       "4    811\n",
       "dtype: int32"
      ]
     },
     "execution_count": 30,
     "metadata": {},
     "output_type": "execute_result"
    }
   ],
   "source": [
    "s+=2 #adds two to each item in s using broadcasting\n",
    "s.head()"
   ]
  },
  {
   "cell_type": "code",
   "execution_count": 31,
   "metadata": {},
   "outputs": [
    {
     "data": {
      "text/plain": [
       "0    949\n",
       "1    903\n",
       "2    817\n",
       "3    756\n",
       "4    813\n",
       "dtype: int32"
      ]
     },
     "execution_count": 31,
     "metadata": {},
     "output_type": "execute_result"
    }
   ],
   "source": [
    "for label, value in s.iteritems():\n",
    "    s.loc[label] = value+2\n",
    "s.head()"
   ]
  },
  {
   "cell_type": "code",
   "execution_count": 32,
   "metadata": {},
   "outputs": [
    {
     "name": "stdout",
     "output_type": "stream",
     "text": [
      "4.05 s ± 131 ms per loop (mean ± std. dev. of 7 runs, 10 loops each)\n"
     ]
    }
   ],
   "source": [
    "%%timeit -n 10\n",
    "s = pd.Series(np.random.randint(0,1000,10000))\n",
    "for label, value in s.iteritems():\n",
    "    s.loc[label]= value+2"
   ]
  },
  {
   "cell_type": "code",
   "execution_count": 33,
   "metadata": {},
   "outputs": [
    {
     "name": "stdout",
     "output_type": "stream",
     "text": [
      "377 µs ± 188 µs per loop (mean ± std. dev. of 7 runs, 10 loops each)\n"
     ]
    }
   ],
   "source": [
    "%%timeit -n 10\n",
    "s = pd.Series(np.random.randint(0,1000,10000))\n",
    "s+=2\n"
   ]
  },
  {
   "cell_type": "code",
   "execution_count": 34,
   "metadata": {},
   "outputs": [
    {
     "data": {
      "text/plain": [
       "0                  1\n",
       "1                  2\n",
       "2                  3\n",
       "Destination    Osaka\n",
       "dtype: object"
      ]
     },
     "execution_count": 34,
     "metadata": {},
     "output_type": "execute_result"
    }
   ],
   "source": [
    "s = pd.Series([1, 2, 3])\n",
    "s.loc['Destination'] = 'Osaka'\n",
    "s"
   ]
  },
  {
   "cell_type": "code",
   "execution_count": 35,
   "metadata": {},
   "outputs": [],
   "source": [
    "hub_cities = pd.Series({'CX': 'Hong Kong',\n",
    "          'CI': 'Taipei',\n",
    "          'NH': 'Tokyo',\n",
    "          'SQ': 'Singapore'})\n",
    "LC_hub_cities = pd.Series(['Hong Kong',\n",
    "                           'Osaka',\n",
    "                           'Tokyo',\n",
    "                           'Okinawa'], \n",
    "                      index=['UO',\n",
    "                             'MM',\n",
    "                             'MM',\n",
    "                             'MM'])\n",
    "all_hub_cities = hub_cities.append(LC_hub_cities)"
   ]
  },
  {
   "cell_type": "code",
   "execution_count": 36,
   "metadata": {},
   "outputs": [
    {
     "data": {
      "text/plain": [
       "CI       Taipei\n",
       "CX    Hong Kong\n",
       "NH        Tokyo\n",
       "SQ    Singapore\n",
       "dtype: object"
      ]
     },
     "execution_count": 36,
     "metadata": {},
     "output_type": "execute_result"
    }
   ],
   "source": [
    "hub_cities"
   ]
  },
  {
   "cell_type": "code",
   "execution_count": 37,
   "metadata": {},
   "outputs": [
    {
     "data": {
      "text/plain": [
       "UO    Hong Kong\n",
       "MM        Osaka\n",
       "MM        Tokyo\n",
       "MM      Okinawa\n",
       "dtype: object"
      ]
     },
     "execution_count": 37,
     "metadata": {},
     "output_type": "execute_result"
    }
   ],
   "source": [
    "LC_hub_cities"
   ]
  },
  {
   "cell_type": "code",
   "execution_count": 38,
   "metadata": {},
   "outputs": [
    {
     "data": {
      "text/plain": [
       "CI       Taipei\n",
       "CX    Hong Kong\n",
       "NH        Tokyo\n",
       "SQ    Singapore\n",
       "UO    Hong Kong\n",
       "MM        Osaka\n",
       "MM        Tokyo\n",
       "MM      Okinawa\n",
       "dtype: object"
      ]
     },
     "execution_count": 38,
     "metadata": {},
     "output_type": "execute_result"
    }
   ],
   "source": [
    "all_hub_cities"
   ]
  },
  {
   "cell_type": "code",
   "execution_count": 39,
   "metadata": {
    "scrolled": false
   },
   "outputs": [
    {
     "data": {
      "text/plain": [
       "MM      Osaka\n",
       "MM      Tokyo\n",
       "MM    Okinawa\n",
       "dtype: object"
      ]
     },
     "execution_count": 39,
     "metadata": {},
     "output_type": "execute_result"
    }
   ],
   "source": [
    "all_hub_cities.loc['MM']"
   ]
  },
  {
   "cell_type": "markdown",
   "metadata": {},
   "source": [
    "# Exercise 2"
   ]
  },
  {
   "cell_type": "markdown",
   "metadata": {},
   "source": [
    "In all_hub_cities, find the city with the largest IATA code."
   ]
  },
  {
   "cell_type": "code",
   "execution_count": 41,
   "metadata": {},
   "outputs": [
    {
     "data": {
      "text/plain": [
       "'Hong Kong'"
      ]
     },
     "execution_count": 41,
     "metadata": {},
     "output_type": "execute_result"
    }
   ],
   "source": [
    "all_hub_cities[ max(all_hub_cities.index) ]"
   ]
  },
  {
   "cell_type": "markdown",
   "metadata": {},
   "source": [
    "# Insight: The best time for purchasing flight ticket"
   ]
  },
  {
   "cell_type": "markdown",
   "metadata": {},
   "source": [
    "Reference: <br>\n",
    "https://www.cheapair.com/blog/2018-airfare-study-the-best-time-to-buy-flights-based-on-917-million-airfares/ <br>\n",
    "https://www.skyscanner.com.hk/news/bttb-2018-hk <br>\n",
    "https://www.skyscanner.com.hk/news/best-time-to-book-hk"
   ]
  },
  {
   "cell_type": "markdown",
   "metadata": {
    "collapsed": true
   },
   "source": [
    "# The DataFrame Data Structure"
   ]
  },
  {
   "cell_type": "code",
   "execution_count": 42,
   "metadata": {},
   "outputs": [
    {
     "data": {
      "text/html": [
       "<div>\n",
       "<style scoped>\n",
       "    .dataframe tbody tr th:only-of-type {\n",
       "        vertical-align: middle;\n",
       "    }\n",
       "\n",
       "    .dataframe tbody tr th {\n",
       "        vertical-align: top;\n",
       "    }\n",
       "\n",
       "    .dataframe thead th {\n",
       "        text-align: right;\n",
       "    }\n",
       "</style>\n",
       "<table border=\"1\" class=\"dataframe\">\n",
       "  <thead>\n",
       "    <tr style=\"text-align: right;\">\n",
       "      <th></th>\n",
       "      <th>Destination</th>\n",
       "      <th>Name</th>\n",
       "      <th>Price</th>\n",
       "    </tr>\n",
       "  </thead>\n",
       "  <tbody>\n",
       "    <tr>\n",
       "      <th>CX</th>\n",
       "      <td>Maldives</td>\n",
       "      <td>Ben</td>\n",
       "      <td>14610.0</td>\n",
       "    </tr>\n",
       "    <tr>\n",
       "      <th>CX</th>\n",
       "      <td>San Francisco</td>\n",
       "      <td>Julian</td>\n",
       "      <td>3480.0</td>\n",
       "    </tr>\n",
       "    <tr>\n",
       "      <th>KA</th>\n",
       "      <td>Shanghai</td>\n",
       "      <td>Tony</td>\n",
       "      <td>880.0</td>\n",
       "    </tr>\n",
       "  </tbody>\n",
       "</table>\n",
       "</div>"
      ],
      "text/plain": [
       "      Destination    Name    Price\n",
       "CX       Maldives     Ben  14610.0\n",
       "CX  San Francisco  Julian   3480.0\n",
       "KA       Shanghai    Tony    880.0"
      ]
     },
     "execution_count": 42,
     "metadata": {},
     "output_type": "execute_result"
    }
   ],
   "source": [
    "import pandas as pd\n",
    "ticket_1 = pd.Series({'Name': 'Ben',\n",
    "                        'Destination': 'Maldives',\n",
    "                        'Price': 14610.0})\n",
    "ticket_2 = pd.Series({'Name': 'Julian',\n",
    "                        'Destination': 'San Francisco',\n",
    "                        'Price': 3480.0})\n",
    "ticket_3 = pd.Series({'Name': 'Tony',\n",
    "                        'Destination': 'Shanghai',\n",
    "                        'Price': 880.00})\n",
    "df = pd.DataFrame([ticket_1, ticket_2, ticket_3], index=['CX', 'CX', 'KA'])\n",
    "df.head()"
   ]
  },
  {
   "cell_type": "code",
   "execution_count": 43,
   "metadata": {},
   "outputs": [
    {
     "data": {
      "text/plain": [
       "Destination    Shanghai\n",
       "Name               Tony\n",
       "Price               880\n",
       "Name: KA, dtype: object"
      ]
     },
     "execution_count": 43,
     "metadata": {},
     "output_type": "execute_result"
    }
   ],
   "source": [
    "df.loc['KA']"
   ]
  },
  {
   "cell_type": "code",
   "execution_count": 44,
   "metadata": {},
   "outputs": [
    {
     "data": {
      "text/plain": [
       "pandas.core.series.Series"
      ]
     },
     "execution_count": 44,
     "metadata": {},
     "output_type": "execute_result"
    }
   ],
   "source": [
    "type(df.loc['KA'])"
   ]
  },
  {
   "cell_type": "code",
   "execution_count": 45,
   "metadata": {},
   "outputs": [
    {
     "data": {
      "text/html": [
       "<div>\n",
       "<style scoped>\n",
       "    .dataframe tbody tr th:only-of-type {\n",
       "        vertical-align: middle;\n",
       "    }\n",
       "\n",
       "    .dataframe tbody tr th {\n",
       "        vertical-align: top;\n",
       "    }\n",
       "\n",
       "    .dataframe thead th {\n",
       "        text-align: right;\n",
       "    }\n",
       "</style>\n",
       "<table border=\"1\" class=\"dataframe\">\n",
       "  <thead>\n",
       "    <tr style=\"text-align: right;\">\n",
       "      <th></th>\n",
       "      <th>Destination</th>\n",
       "      <th>Name</th>\n",
       "      <th>Price</th>\n",
       "    </tr>\n",
       "  </thead>\n",
       "  <tbody>\n",
       "    <tr>\n",
       "      <th>CX</th>\n",
       "      <td>Maldives</td>\n",
       "      <td>Ben</td>\n",
       "      <td>14610.0</td>\n",
       "    </tr>\n",
       "    <tr>\n",
       "      <th>CX</th>\n",
       "      <td>San Francisco</td>\n",
       "      <td>Julian</td>\n",
       "      <td>3480.0</td>\n",
       "    </tr>\n",
       "  </tbody>\n",
       "</table>\n",
       "</div>"
      ],
      "text/plain": [
       "      Destination    Name    Price\n",
       "CX       Maldives     Ben  14610.0\n",
       "CX  San Francisco  Julian   3480.0"
      ]
     },
     "execution_count": 45,
     "metadata": {},
     "output_type": "execute_result"
    }
   ],
   "source": [
    "df.loc['CX']"
   ]
  },
  {
   "cell_type": "code",
   "execution_count": 46,
   "metadata": {},
   "outputs": [
    {
     "data": {
      "text/plain": [
       "CX    14610.0\n",
       "CX     3480.0\n",
       "Name: Price, dtype: float64"
      ]
     },
     "execution_count": 46,
     "metadata": {},
     "output_type": "execute_result"
    }
   ],
   "source": [
    "df.loc['CX', 'Price']"
   ]
  },
  {
   "cell_type": "code",
   "execution_count": 47,
   "metadata": {},
   "outputs": [
    {
     "data": {
      "text/html": [
       "<div>\n",
       "<style scoped>\n",
       "    .dataframe tbody tr th:only-of-type {\n",
       "        vertical-align: middle;\n",
       "    }\n",
       "\n",
       "    .dataframe tbody tr th {\n",
       "        vertical-align: top;\n",
       "    }\n",
       "\n",
       "    .dataframe thead th {\n",
       "        text-align: right;\n",
       "    }\n",
       "</style>\n",
       "<table border=\"1\" class=\"dataframe\">\n",
       "  <thead>\n",
       "    <tr style=\"text-align: right;\">\n",
       "      <th></th>\n",
       "      <th>CX</th>\n",
       "      <th>CX</th>\n",
       "      <th>KA</th>\n",
       "    </tr>\n",
       "  </thead>\n",
       "  <tbody>\n",
       "    <tr>\n",
       "      <th>Destination</th>\n",
       "      <td>Maldives</td>\n",
       "      <td>San Francisco</td>\n",
       "      <td>Shanghai</td>\n",
       "    </tr>\n",
       "    <tr>\n",
       "      <th>Name</th>\n",
       "      <td>Ben</td>\n",
       "      <td>Julian</td>\n",
       "      <td>Tony</td>\n",
       "    </tr>\n",
       "    <tr>\n",
       "      <th>Price</th>\n",
       "      <td>14610</td>\n",
       "      <td>3480</td>\n",
       "      <td>880</td>\n",
       "    </tr>\n",
       "  </tbody>\n",
       "</table>\n",
       "</div>"
      ],
      "text/plain": [
       "                   CX             CX        KA\n",
       "Destination  Maldives  San Francisco  Shanghai\n",
       "Name              Ben         Julian      Tony\n",
       "Price           14610           3480       880"
      ]
     },
     "execution_count": 47,
     "metadata": {},
     "output_type": "execute_result"
    }
   ],
   "source": [
    "df.T"
   ]
  },
  {
   "cell_type": "code",
   "execution_count": 48,
   "metadata": {},
   "outputs": [
    {
     "data": {
      "text/plain": [
       "CX    14610\n",
       "CX     3480\n",
       "KA      880\n",
       "Name: Price, dtype: object"
      ]
     },
     "execution_count": 48,
     "metadata": {},
     "output_type": "execute_result"
    }
   ],
   "source": [
    "df.T.loc['Price']"
   ]
  },
  {
   "cell_type": "code",
   "execution_count": 49,
   "metadata": {},
   "outputs": [
    {
     "data": {
      "text/plain": [
       "CX    14610.0\n",
       "CX     3480.0\n",
       "KA      880.0\n",
       "Name: Price, dtype: float64"
      ]
     },
     "execution_count": 49,
     "metadata": {},
     "output_type": "execute_result"
    }
   ],
   "source": [
    "df['Price']"
   ]
  },
  {
   "cell_type": "code",
   "execution_count": 50,
   "metadata": {},
   "outputs": [
    {
     "data": {
      "text/plain": [
       "CX    14610.0\n",
       "CX     3480.0\n",
       "Name: Price, dtype: float64"
      ]
     },
     "execution_count": 50,
     "metadata": {},
     "output_type": "execute_result"
    }
   ],
   "source": [
    "df.loc['CX']['Price']"
   ]
  },
  {
   "cell_type": "code",
   "execution_count": 51,
   "metadata": {},
   "outputs": [
    {
     "data": {
      "text/html": [
       "<div>\n",
       "<style scoped>\n",
       "    .dataframe tbody tr th:only-of-type {\n",
       "        vertical-align: middle;\n",
       "    }\n",
       "\n",
       "    .dataframe tbody tr th {\n",
       "        vertical-align: top;\n",
       "    }\n",
       "\n",
       "    .dataframe thead th {\n",
       "        text-align: right;\n",
       "    }\n",
       "</style>\n",
       "<table border=\"1\" class=\"dataframe\">\n",
       "  <thead>\n",
       "    <tr style=\"text-align: right;\">\n",
       "      <th></th>\n",
       "      <th>Name</th>\n",
       "      <th>Price</th>\n",
       "    </tr>\n",
       "  </thead>\n",
       "  <tbody>\n",
       "    <tr>\n",
       "      <th>CX</th>\n",
       "      <td>Ben</td>\n",
       "      <td>14610.0</td>\n",
       "    </tr>\n",
       "    <tr>\n",
       "      <th>CX</th>\n",
       "      <td>Julian</td>\n",
       "      <td>3480.0</td>\n",
       "    </tr>\n",
       "    <tr>\n",
       "      <th>KA</th>\n",
       "      <td>Tony</td>\n",
       "      <td>880.0</td>\n",
       "    </tr>\n",
       "  </tbody>\n",
       "</table>\n",
       "</div>"
      ],
      "text/plain": [
       "      Name    Price\n",
       "CX     Ben  14610.0\n",
       "CX  Julian   3480.0\n",
       "KA    Tony    880.0"
      ]
     },
     "execution_count": 51,
     "metadata": {},
     "output_type": "execute_result"
    }
   ],
   "source": [
    "df.loc[:,['Name', 'Price']]"
   ]
  },
  {
   "cell_type": "code",
   "execution_count": 52,
   "metadata": {},
   "outputs": [
    {
     "data": {
      "text/html": [
       "<div>\n",
       "<style scoped>\n",
       "    .dataframe tbody tr th:only-of-type {\n",
       "        vertical-align: middle;\n",
       "    }\n",
       "\n",
       "    .dataframe tbody tr th {\n",
       "        vertical-align: top;\n",
       "    }\n",
       "\n",
       "    .dataframe thead th {\n",
       "        text-align: right;\n",
       "    }\n",
       "</style>\n",
       "<table border=\"1\" class=\"dataframe\">\n",
       "  <thead>\n",
       "    <tr style=\"text-align: right;\">\n",
       "      <th></th>\n",
       "      <th>Destination</th>\n",
       "      <th>Name</th>\n",
       "      <th>Price</th>\n",
       "    </tr>\n",
       "  </thead>\n",
       "  <tbody>\n",
       "    <tr>\n",
       "      <th>KA</th>\n",
       "      <td>Shanghai</td>\n",
       "      <td>Tony</td>\n",
       "      <td>880.0</td>\n",
       "    </tr>\n",
       "  </tbody>\n",
       "</table>\n",
       "</div>"
      ],
      "text/plain": [
       "   Destination  Name  Price\n",
       "KA    Shanghai  Tony  880.0"
      ]
     },
     "execution_count": 52,
     "metadata": {},
     "output_type": "execute_result"
    }
   ],
   "source": [
    "df.drop('CX')"
   ]
  },
  {
   "cell_type": "code",
   "execution_count": 53,
   "metadata": {},
   "outputs": [
    {
     "data": {
      "text/html": [
       "<div>\n",
       "<style scoped>\n",
       "    .dataframe tbody tr th:only-of-type {\n",
       "        vertical-align: middle;\n",
       "    }\n",
       "\n",
       "    .dataframe tbody tr th {\n",
       "        vertical-align: top;\n",
       "    }\n",
       "\n",
       "    .dataframe thead th {\n",
       "        text-align: right;\n",
       "    }\n",
       "</style>\n",
       "<table border=\"1\" class=\"dataframe\">\n",
       "  <thead>\n",
       "    <tr style=\"text-align: right;\">\n",
       "      <th></th>\n",
       "      <th>Destination</th>\n",
       "      <th>Name</th>\n",
       "      <th>Price</th>\n",
       "    </tr>\n",
       "  </thead>\n",
       "  <tbody>\n",
       "    <tr>\n",
       "      <th>CX</th>\n",
       "      <td>Maldives</td>\n",
       "      <td>Ben</td>\n",
       "      <td>14610.0</td>\n",
       "    </tr>\n",
       "    <tr>\n",
       "      <th>CX</th>\n",
       "      <td>San Francisco</td>\n",
       "      <td>Julian</td>\n",
       "      <td>3480.0</td>\n",
       "    </tr>\n",
       "    <tr>\n",
       "      <th>KA</th>\n",
       "      <td>Shanghai</td>\n",
       "      <td>Tony</td>\n",
       "      <td>880.0</td>\n",
       "    </tr>\n",
       "  </tbody>\n",
       "</table>\n",
       "</div>"
      ],
      "text/plain": [
       "      Destination    Name    Price\n",
       "CX       Maldives     Ben  14610.0\n",
       "CX  San Francisco  Julian   3480.0\n",
       "KA       Shanghai    Tony    880.0"
      ]
     },
     "execution_count": 53,
     "metadata": {},
     "output_type": "execute_result"
    }
   ],
   "source": [
    "df"
   ]
  },
  {
   "cell_type": "code",
   "execution_count": 54,
   "metadata": {},
   "outputs": [
    {
     "data": {
      "text/html": [
       "<div>\n",
       "<style scoped>\n",
       "    .dataframe tbody tr th:only-of-type {\n",
       "        vertical-align: middle;\n",
       "    }\n",
       "\n",
       "    .dataframe tbody tr th {\n",
       "        vertical-align: top;\n",
       "    }\n",
       "\n",
       "    .dataframe thead th {\n",
       "        text-align: right;\n",
       "    }\n",
       "</style>\n",
       "<table border=\"1\" class=\"dataframe\">\n",
       "  <thead>\n",
       "    <tr style=\"text-align: right;\">\n",
       "      <th></th>\n",
       "      <th>Destination</th>\n",
       "      <th>Name</th>\n",
       "      <th>Price</th>\n",
       "    </tr>\n",
       "  </thead>\n",
       "  <tbody>\n",
       "    <tr>\n",
       "      <th>KA</th>\n",
       "      <td>Shanghai</td>\n",
       "      <td>Tony</td>\n",
       "      <td>880.0</td>\n",
       "    </tr>\n",
       "  </tbody>\n",
       "</table>\n",
       "</div>"
      ],
      "text/plain": [
       "   Destination  Name  Price\n",
       "KA    Shanghai  Tony  880.0"
      ]
     },
     "execution_count": 54,
     "metadata": {},
     "output_type": "execute_result"
    }
   ],
   "source": [
    "copy_df = df.copy()\n",
    "copy_df = copy_df.drop('CX')\n",
    "copy_df"
   ]
  },
  {
   "cell_type": "code",
   "execution_count": 55,
   "metadata": {},
   "outputs": [],
   "source": [
    "copy_df.drop?"
   ]
  },
  {
   "cell_type": "code",
   "execution_count": 56,
   "metadata": {},
   "outputs": [
    {
     "data": {
      "text/html": [
       "<div>\n",
       "<style scoped>\n",
       "    .dataframe tbody tr th:only-of-type {\n",
       "        vertical-align: middle;\n",
       "    }\n",
       "\n",
       "    .dataframe tbody tr th {\n",
       "        vertical-align: top;\n",
       "    }\n",
       "\n",
       "    .dataframe thead th {\n",
       "        text-align: right;\n",
       "    }\n",
       "</style>\n",
       "<table border=\"1\" class=\"dataframe\">\n",
       "  <thead>\n",
       "    <tr style=\"text-align: right;\">\n",
       "      <th></th>\n",
       "      <th>Destination</th>\n",
       "      <th>Price</th>\n",
       "    </tr>\n",
       "  </thead>\n",
       "  <tbody>\n",
       "    <tr>\n",
       "      <th>KA</th>\n",
       "      <td>Shanghai</td>\n",
       "      <td>880.0</td>\n",
       "    </tr>\n",
       "  </tbody>\n",
       "</table>\n",
       "</div>"
      ],
      "text/plain": [
       "   Destination  Price\n",
       "KA    Shanghai  880.0"
      ]
     },
     "execution_count": 56,
     "metadata": {},
     "output_type": "execute_result"
    }
   ],
   "source": [
    "del copy_df['Name']\n",
    "copy_df"
   ]
  },
  {
   "cell_type": "code",
   "execution_count": 57,
   "metadata": {},
   "outputs": [
    {
     "data": {
      "text/html": [
       "<div>\n",
       "<style scoped>\n",
       "    .dataframe tbody tr th:only-of-type {\n",
       "        vertical-align: middle;\n",
       "    }\n",
       "\n",
       "    .dataframe tbody tr th {\n",
       "        vertical-align: top;\n",
       "    }\n",
       "\n",
       "    .dataframe thead th {\n",
       "        text-align: right;\n",
       "    }\n",
       "</style>\n",
       "<table border=\"1\" class=\"dataframe\">\n",
       "  <thead>\n",
       "    <tr style=\"text-align: right;\">\n",
       "      <th></th>\n",
       "      <th>Destination</th>\n",
       "      <th>Name</th>\n",
       "      <th>Price</th>\n",
       "      <th>Flight Date</th>\n",
       "    </tr>\n",
       "  </thead>\n",
       "  <tbody>\n",
       "    <tr>\n",
       "      <th>CX</th>\n",
       "      <td>Maldives</td>\n",
       "      <td>Ben</td>\n",
       "      <td>14610.0</td>\n",
       "      <td>None</td>\n",
       "    </tr>\n",
       "    <tr>\n",
       "      <th>CX</th>\n",
       "      <td>San Francisco</td>\n",
       "      <td>Julian</td>\n",
       "      <td>3480.0</td>\n",
       "      <td>None</td>\n",
       "    </tr>\n",
       "    <tr>\n",
       "      <th>KA</th>\n",
       "      <td>Shanghai</td>\n",
       "      <td>Tony</td>\n",
       "      <td>880.0</td>\n",
       "      <td>None</td>\n",
       "    </tr>\n",
       "  </tbody>\n",
       "</table>\n",
       "</div>"
      ],
      "text/plain": [
       "      Destination    Name    Price Flight Date\n",
       "CX       Maldives     Ben  14610.0        None\n",
       "CX  San Francisco  Julian   3480.0        None\n",
       "KA       Shanghai    Tony    880.0        None"
      ]
     },
     "execution_count": 57,
     "metadata": {},
     "output_type": "execute_result"
    }
   ],
   "source": [
    "df['Flight Date'] = None\n",
    "df"
   ]
  },
  {
   "cell_type": "markdown",
   "metadata": {
    "collapsed": true
   },
   "source": [
    "# Dataframe Indexing and Loading"
   ]
  },
  {
   "cell_type": "code",
   "execution_count": 58,
   "metadata": {},
   "outputs": [
    {
     "data": {
      "text/plain": [
       "CX    14610.0\n",
       "CX     3480.0\n",
       "KA      880.0\n",
       "Name: Price, dtype: float64"
      ]
     },
     "execution_count": 58,
     "metadata": {},
     "output_type": "execute_result"
    }
   ],
   "source": [
    "prices = df['Price']\n",
    "prices"
   ]
  },
  {
   "cell_type": "code",
   "execution_count": 59,
   "metadata": {},
   "outputs": [
    {
     "data": {
      "text/plain": [
       "CX    14770.0\n",
       "CX     3640.0\n",
       "KA     1040.0\n",
       "Name: Price, dtype: float64"
      ]
     },
     "execution_count": 59,
     "metadata": {},
     "output_type": "execute_result"
    }
   ],
   "source": [
    "prices += 160\n",
    "prices"
   ]
  },
  {
   "cell_type": "code",
   "execution_count": 60,
   "metadata": {
    "scrolled": true
   },
   "outputs": [
    {
     "data": {
      "text/html": [
       "<div>\n",
       "<style scoped>\n",
       "    .dataframe tbody tr th:only-of-type {\n",
       "        vertical-align: middle;\n",
       "    }\n",
       "\n",
       "    .dataframe tbody tr th {\n",
       "        vertical-align: top;\n",
       "    }\n",
       "\n",
       "    .dataframe thead th {\n",
       "        text-align: right;\n",
       "    }\n",
       "</style>\n",
       "<table border=\"1\" class=\"dataframe\">\n",
       "  <thead>\n",
       "    <tr style=\"text-align: right;\">\n",
       "      <th></th>\n",
       "      <th>Destination</th>\n",
       "      <th>Name</th>\n",
       "      <th>Price</th>\n",
       "      <th>Flight Date</th>\n",
       "    </tr>\n",
       "  </thead>\n",
       "  <tbody>\n",
       "    <tr>\n",
       "      <th>CX</th>\n",
       "      <td>Maldives</td>\n",
       "      <td>Ben</td>\n",
       "      <td>14770.0</td>\n",
       "      <td>None</td>\n",
       "    </tr>\n",
       "    <tr>\n",
       "      <th>CX</th>\n",
       "      <td>San Francisco</td>\n",
       "      <td>Julian</td>\n",
       "      <td>3640.0</td>\n",
       "      <td>None</td>\n",
       "    </tr>\n",
       "    <tr>\n",
       "      <th>KA</th>\n",
       "      <td>Shanghai</td>\n",
       "      <td>Tony</td>\n",
       "      <td>1040.0</td>\n",
       "      <td>None</td>\n",
       "    </tr>\n",
       "  </tbody>\n",
       "</table>\n",
       "</div>"
      ],
      "text/plain": [
       "      Destination    Name    Price Flight Date\n",
       "CX       Maldives     Ben  14770.0        None\n",
       "CX  San Francisco  Julian   3640.0        None\n",
       "KA       Shanghai    Tony   1040.0        None"
      ]
     },
     "execution_count": 60,
     "metadata": {},
     "output_type": "execute_result"
    }
   ],
   "source": [
    "df"
   ]
  },
  {
   "cell_type": "markdown",
   "metadata": {},
   "source": [
    "# Exercise 3"
   ]
  },
  {
   "cell_type": "markdown",
   "metadata": {},
   "source": [
    "What is the price ratio between Ben's ticket and Tony's ticket ?"
   ]
  },
  {
   "cell_type": "code",
   "execution_count": 62,
   "metadata": {},
   "outputs": [
    {
     "data": {
      "text/plain": [
       "array([14.20192308])"
      ]
     },
     "execution_count": 62,
     "metadata": {},
     "output_type": "execute_result"
    }
   ],
   "source": [
    "df.loc[df['Name']=='Ben','Price'].values / df.loc[df['Name']=='Tony','Price'].values"
   ]
  },
  {
   "cell_type": "markdown",
   "metadata": {},
   "source": [
    "# CX Fanfares"
   ]
  },
  {
   "cell_type": "markdown",
   "metadata": {},
   "source": [
    "https://www.cathaypacific.com/cx/zh_HK/latest-offers/flights/fanfares/index.html <br>\n",
    "<br>\n",
    "Data from: <br>\n",
    "http://roasterpig.blogspot.com/2012/10/cathay-fanfares.html"
   ]
  },
  {
   "cell_type": "code",
   "execution_count": 63,
   "metadata": {},
   "outputs": [
    {
     "data": {
      "text/html": [
       "<div>\n",
       "<style scoped>\n",
       "    .dataframe tbody tr th:only-of-type {\n",
       "        vertical-align: middle;\n",
       "    }\n",
       "\n",
       "    .dataframe tbody tr th {\n",
       "        vertical-align: top;\n",
       "    }\n",
       "\n",
       "    .dataframe thead th {\n",
       "        text-align: right;\n",
       "    }\n",
       "</style>\n",
       "<table border=\"1\" class=\"dataframe\">\n",
       "  <thead>\n",
       "    <tr style=\"text-align: right;\">\n",
       "      <th></th>\n",
       "      <th>Destination</th>\n",
       "      <th>Dest_Country</th>\n",
       "      <th>Cabin</th>\n",
       "      <th>Price</th>\n",
       "      <th>Price_tax</th>\n",
       "      <th>Date_start</th>\n",
       "      <th>Date_end</th>\n",
       "    </tr>\n",
       "  </thead>\n",
       "  <tbody>\n",
       "    <tr>\n",
       "      <th>0</th>\n",
       "      <td>Adelaide</td>\n",
       "      <td>Australia</td>\n",
       "      <td>Economy</td>\n",
       "      <td>3480.0</td>\n",
       "      <td>4440.0</td>\n",
       "      <td>19/08/2018</td>\n",
       "      <td>09/09/2018</td>\n",
       "    </tr>\n",
       "    <tr>\n",
       "      <th>1</th>\n",
       "      <td>Adelaide</td>\n",
       "      <td>Australia</td>\n",
       "      <td>Business</td>\n",
       "      <td>23080.0</td>\n",
       "      <td>24072.0</td>\n",
       "      <td>04/08/2018</td>\n",
       "      <td>29/08/2018</td>\n",
       "    </tr>\n",
       "    <tr>\n",
       "      <th>2</th>\n",
       "      <td>Adelaide</td>\n",
       "      <td>Australia</td>\n",
       "      <td>Economy</td>\n",
       "      <td>3480.0</td>\n",
       "      <td>4463.0</td>\n",
       "      <td>24/06/2018</td>\n",
       "      <td>04/07/2018</td>\n",
       "    </tr>\n",
       "    <tr>\n",
       "      <th>3</th>\n",
       "      <td>Auckland</td>\n",
       "      <td>New Zealand</td>\n",
       "      <td>Economy</td>\n",
       "      <td>3980.0</td>\n",
       "      <td>4673.0</td>\n",
       "      <td>30/07/2018</td>\n",
       "      <td>12/08/2018</td>\n",
       "    </tr>\n",
       "    <tr>\n",
       "      <th>4</th>\n",
       "      <td>Auckland</td>\n",
       "      <td>New Zealand</td>\n",
       "      <td>Business</td>\n",
       "      <td>9980.0</td>\n",
       "      <td>10673.0</td>\n",
       "      <td>13/07/2018</td>\n",
       "      <td>12/08/2018</td>\n",
       "    </tr>\n",
       "  </tbody>\n",
       "</table>\n",
       "</div>"
      ],
      "text/plain": [
       "  Destination Dest_Country     Cabin    Price  Price_tax  Date_start  \\\n",
       "0    Adelaide    Australia   Economy   3480.0     4440.0  19/08/2018   \n",
       "1    Adelaide    Australia  Business  23080.0    24072.0  04/08/2018   \n",
       "2    Adelaide    Australia   Economy   3480.0     4463.0  24/06/2018   \n",
       "3    Auckland  New Zealand   Economy   3980.0     4673.0  30/07/2018   \n",
       "4    Auckland  New Zealand  Business   9980.0    10673.0  13/07/2018   \n",
       "\n",
       "     Date_end  \n",
       "0  09/09/2018  \n",
       "1  29/08/2018  \n",
       "2  04/07/2018  \n",
       "3  12/08/2018  \n",
       "4  12/08/2018  "
      ]
     },
     "execution_count": 63,
     "metadata": {},
     "output_type": "execute_result"
    }
   ],
   "source": [
    "df = pd.read_csv('fanfares.csv')\n",
    "df.head()"
   ]
  },
  {
   "cell_type": "code",
   "execution_count": 64,
   "metadata": {},
   "outputs": [
    {
     "data": {
      "text/html": [
       "<div>\n",
       "<style scoped>\n",
       "    .dataframe tbody tr th:only-of-type {\n",
       "        vertical-align: middle;\n",
       "    }\n",
       "\n",
       "    .dataframe tbody tr th {\n",
       "        vertical-align: top;\n",
       "    }\n",
       "\n",
       "    .dataframe thead th {\n",
       "        text-align: right;\n",
       "    }\n",
       "</style>\n",
       "<table border=\"1\" class=\"dataframe\">\n",
       "  <thead>\n",
       "    <tr style=\"text-align: right;\">\n",
       "      <th></th>\n",
       "      <th>Dest_Country</th>\n",
       "      <th>Cabin</th>\n",
       "      <th>Price</th>\n",
       "      <th>Price_tax</th>\n",
       "      <th>Date_start</th>\n",
       "      <th>Date_end</th>\n",
       "    </tr>\n",
       "    <tr>\n",
       "      <th>Destination</th>\n",
       "      <th></th>\n",
       "      <th></th>\n",
       "      <th></th>\n",
       "      <th></th>\n",
       "      <th></th>\n",
       "      <th></th>\n",
       "    </tr>\n",
       "  </thead>\n",
       "  <tbody>\n",
       "    <tr>\n",
       "      <th>Adelaide</th>\n",
       "      <td>Australia</td>\n",
       "      <td>Economy</td>\n",
       "      <td>3480.0</td>\n",
       "      <td>4440.0</td>\n",
       "      <td>19/08/2018</td>\n",
       "      <td>09/09/2018</td>\n",
       "    </tr>\n",
       "    <tr>\n",
       "      <th>Adelaide</th>\n",
       "      <td>Australia</td>\n",
       "      <td>Business</td>\n",
       "      <td>23080.0</td>\n",
       "      <td>24072.0</td>\n",
       "      <td>04/08/2018</td>\n",
       "      <td>29/08/2018</td>\n",
       "    </tr>\n",
       "    <tr>\n",
       "      <th>Adelaide</th>\n",
       "      <td>Australia</td>\n",
       "      <td>Economy</td>\n",
       "      <td>3480.0</td>\n",
       "      <td>4463.0</td>\n",
       "      <td>24/06/2018</td>\n",
       "      <td>04/07/2018</td>\n",
       "    </tr>\n",
       "    <tr>\n",
       "      <th>Auckland</th>\n",
       "      <td>New Zealand</td>\n",
       "      <td>Economy</td>\n",
       "      <td>3980.0</td>\n",
       "      <td>4673.0</td>\n",
       "      <td>30/07/2018</td>\n",
       "      <td>12/08/2018</td>\n",
       "    </tr>\n",
       "    <tr>\n",
       "      <th>Auckland</th>\n",
       "      <td>New Zealand</td>\n",
       "      <td>Business</td>\n",
       "      <td>9980.0</td>\n",
       "      <td>10673.0</td>\n",
       "      <td>13/07/2018</td>\n",
       "      <td>12/08/2018</td>\n",
       "    </tr>\n",
       "  </tbody>\n",
       "</table>\n",
       "</div>"
      ],
      "text/plain": [
       "            Dest_Country     Cabin    Price  Price_tax  Date_start    Date_end\n",
       "Destination                                                                   \n",
       "Adelaide       Australia   Economy   3480.0     4440.0  19/08/2018  09/09/2018\n",
       "Adelaide       Australia  Business  23080.0    24072.0  04/08/2018  29/08/2018\n",
       "Adelaide       Australia   Economy   3480.0     4463.0  24/06/2018  04/07/2018\n",
       "Auckland     New Zealand   Economy   3980.0     4673.0  30/07/2018  12/08/2018\n",
       "Auckland     New Zealand  Business   9980.0    10673.0  13/07/2018  12/08/2018"
      ]
     },
     "execution_count": 64,
     "metadata": {},
     "output_type": "execute_result"
    }
   ],
   "source": [
    "df = pd.read_csv('fanfares.csv', index_col = 0)\n",
    "df.head()"
   ]
  },
  {
   "cell_type": "code",
   "execution_count": 65,
   "metadata": {},
   "outputs": [
    {
     "data": {
      "text/plain": [
       "Index(['Dest_Country', 'Cabin', 'Price', 'Price_tax', 'Date_start',\n",
       "       'Date_end'],\n",
       "      dtype='object')"
      ]
     },
     "execution_count": 65,
     "metadata": {},
     "output_type": "execute_result"
    }
   ],
   "source": [
    "df.columns"
   ]
  },
  {
   "cell_type": "code",
   "execution_count": 66,
   "metadata": {},
   "outputs": [
    {
     "data": {
      "text/html": [
       "<div>\n",
       "<style scoped>\n",
       "    .dataframe tbody tr th:only-of-type {\n",
       "        vertical-align: middle;\n",
       "    }\n",
       "\n",
       "    .dataframe tbody tr th {\n",
       "        vertical-align: top;\n",
       "    }\n",
       "\n",
       "    .dataframe thead th {\n",
       "        text-align: right;\n",
       "    }\n",
       "</style>\n",
       "<table border=\"1\" class=\"dataframe\">\n",
       "  <thead>\n",
       "    <tr style=\"text-align: right;\">\n",
       "      <th></th>\n",
       "      <th>Dest_Country</th>\n",
       "      <th>Cabin</th>\n",
       "      <th>Price</th>\n",
       "      <th>Price_tax</th>\n",
       "      <th>UseDuration_Start</th>\n",
       "      <th>UseDuration_End</th>\n",
       "    </tr>\n",
       "    <tr>\n",
       "      <th>Destination</th>\n",
       "      <th></th>\n",
       "      <th></th>\n",
       "      <th></th>\n",
       "      <th></th>\n",
       "      <th></th>\n",
       "      <th></th>\n",
       "    </tr>\n",
       "  </thead>\n",
       "  <tbody>\n",
       "    <tr>\n",
       "      <th>Adelaide</th>\n",
       "      <td>Australia</td>\n",
       "      <td>Economy</td>\n",
       "      <td>3480.0</td>\n",
       "      <td>4440.0</td>\n",
       "      <td>19/08/2018</td>\n",
       "      <td>09/09/2018</td>\n",
       "    </tr>\n",
       "    <tr>\n",
       "      <th>Adelaide</th>\n",
       "      <td>Australia</td>\n",
       "      <td>Business</td>\n",
       "      <td>23080.0</td>\n",
       "      <td>24072.0</td>\n",
       "      <td>04/08/2018</td>\n",
       "      <td>29/08/2018</td>\n",
       "    </tr>\n",
       "    <tr>\n",
       "      <th>Adelaide</th>\n",
       "      <td>Australia</td>\n",
       "      <td>Economy</td>\n",
       "      <td>3480.0</td>\n",
       "      <td>4463.0</td>\n",
       "      <td>24/06/2018</td>\n",
       "      <td>04/07/2018</td>\n",
       "    </tr>\n",
       "    <tr>\n",
       "      <th>Auckland</th>\n",
       "      <td>New Zealand</td>\n",
       "      <td>Economy</td>\n",
       "      <td>3980.0</td>\n",
       "      <td>4673.0</td>\n",
       "      <td>30/07/2018</td>\n",
       "      <td>12/08/2018</td>\n",
       "    </tr>\n",
       "    <tr>\n",
       "      <th>Auckland</th>\n",
       "      <td>New Zealand</td>\n",
       "      <td>Business</td>\n",
       "      <td>9980.0</td>\n",
       "      <td>10673.0</td>\n",
       "      <td>13/07/2018</td>\n",
       "      <td>12/08/2018</td>\n",
       "    </tr>\n",
       "  </tbody>\n",
       "</table>\n",
       "</div>"
      ],
      "text/plain": [
       "            Dest_Country     Cabin    Price  Price_tax UseDuration_Start  \\\n",
       "Destination                                                                \n",
       "Adelaide       Australia   Economy   3480.0     4440.0        19/08/2018   \n",
       "Adelaide       Australia  Business  23080.0    24072.0        04/08/2018   \n",
       "Adelaide       Australia   Economy   3480.0     4463.0        24/06/2018   \n",
       "Auckland     New Zealand   Economy   3980.0     4673.0        30/07/2018   \n",
       "Auckland     New Zealand  Business   9980.0    10673.0        13/07/2018   \n",
       "\n",
       "            UseDuration_End  \n",
       "Destination                  \n",
       "Adelaide         09/09/2018  \n",
       "Adelaide         29/08/2018  \n",
       "Adelaide         04/07/2018  \n",
       "Auckland         12/08/2018  \n",
       "Auckland         12/08/2018  "
      ]
     },
     "execution_count": 66,
     "metadata": {},
     "output_type": "execute_result"
    }
   ],
   "source": [
    "df.rename(columns={'Date_start':'UseDuration_Start'\n",
    "                  , 'Date_end':'UseDuration_End'\n",
    "                  }, inplace=True)\n",
    "df.head()"
   ]
  },
  {
   "cell_type": "markdown",
   "metadata": {},
   "source": [
    "# Querying a DataFrame"
   ]
  },
  {
   "cell_type": "code",
   "execution_count": 67,
   "metadata": {},
   "outputs": [
    {
     "data": {
      "text/plain": [
       "Destination\n",
       "Adelaide             False\n",
       "Adelaide              True\n",
       "Adelaide             False\n",
       "Auckland             False\n",
       "Auckland              True\n",
       "Bangalore            False\n",
       "Bangkok              False\n",
       "Barcelona            False\n",
       "Brussels             False\n",
       "Busan                False\n",
       "Calcutta             False\n",
       "Cebu                  True\n",
       "Chennai              False\n",
       "Chiang Mai           False\n",
       "Chicago              False\n",
       "Clark                False\n",
       "Copenhagen           False\n",
       "Copenhagen           False\n",
       "Delhi                False\n",
       "Dhaka                False\n",
       "Dubai                False\n",
       "Dublin               False\n",
       "Fukuoka              False\n",
       "Fukuoka              False\n",
       "Guilin               False\n",
       "Haikou               False\n",
       "Hangzhou             False\n",
       "Hanoi                False\n",
       "Ho Chi Minh City     False\n",
       "Ho Chi Minh City     False\n",
       "                     ...  \n",
       "Nagoya               False\n",
       "Nanning              False\n",
       "New York (Newark)    False\n",
       "Okinawa              False\n",
       "Osaka                False\n",
       "Osaka                False\n",
       "Paris                False\n",
       "Phnom Penh           False\n",
       "Phnom Penh           False\n",
       "Phnom Penh           False\n",
       "Phuket                True\n",
       "Shanghai (Pudong)    False\n",
       "Qingdao              False\n",
       "San Francisco        False\n",
       "Sanya                False\n",
       "Seoul                False\n",
       "Singapore            False\n",
       "Sydney               False\n",
       "Taipei               False\n",
       "Taipei               False\n",
       "Taipei                True\n",
       "Tokyo (Narita)       False\n",
       "Vancouver            False\n",
       "Vancouver            False\n",
       "Xiamen               False\n",
       "Yangon               False\n",
       "Taipei               False\n",
       "Taipei               False\n",
       "Taipei               False\n",
       "Taipei               False\n",
       "Name: Cabin, Length: 69, dtype: bool"
      ]
     },
     "execution_count": 67,
     "metadata": {},
     "output_type": "execute_result"
    }
   ],
   "source": [
    "df['Cabin'] == 'Business'"
   ]
  },
  {
   "cell_type": "code",
   "execution_count": 68,
   "metadata": {},
   "outputs": [
    {
     "data": {
      "text/html": [
       "<div>\n",
       "<style scoped>\n",
       "    .dataframe tbody tr th:only-of-type {\n",
       "        vertical-align: middle;\n",
       "    }\n",
       "\n",
       "    .dataframe tbody tr th {\n",
       "        vertical-align: top;\n",
       "    }\n",
       "\n",
       "    .dataframe thead th {\n",
       "        text-align: right;\n",
       "    }\n",
       "</style>\n",
       "<table border=\"1\" class=\"dataframe\">\n",
       "  <thead>\n",
       "    <tr style=\"text-align: right;\">\n",
       "      <th></th>\n",
       "      <th>Dest_Country</th>\n",
       "      <th>Cabin</th>\n",
       "      <th>Price</th>\n",
       "      <th>Price_tax</th>\n",
       "      <th>UseDuration_Start</th>\n",
       "      <th>UseDuration_End</th>\n",
       "    </tr>\n",
       "    <tr>\n",
       "      <th>Destination</th>\n",
       "      <th></th>\n",
       "      <th></th>\n",
       "      <th></th>\n",
       "      <th></th>\n",
       "      <th></th>\n",
       "      <th></th>\n",
       "    </tr>\n",
       "  </thead>\n",
       "  <tbody>\n",
       "    <tr>\n",
       "      <th>Adelaide</th>\n",
       "      <td>NaN</td>\n",
       "      <td>NaN</td>\n",
       "      <td>NaN</td>\n",
       "      <td>NaN</td>\n",
       "      <td>NaN</td>\n",
       "      <td>NaN</td>\n",
       "    </tr>\n",
       "    <tr>\n",
       "      <th>Adelaide</th>\n",
       "      <td>Australia</td>\n",
       "      <td>Business</td>\n",
       "      <td>23080.0</td>\n",
       "      <td>24072.0</td>\n",
       "      <td>04/08/2018</td>\n",
       "      <td>29/08/2018</td>\n",
       "    </tr>\n",
       "    <tr>\n",
       "      <th>Adelaide</th>\n",
       "      <td>NaN</td>\n",
       "      <td>NaN</td>\n",
       "      <td>NaN</td>\n",
       "      <td>NaN</td>\n",
       "      <td>NaN</td>\n",
       "      <td>NaN</td>\n",
       "    </tr>\n",
       "    <tr>\n",
       "      <th>Auckland</th>\n",
       "      <td>NaN</td>\n",
       "      <td>NaN</td>\n",
       "      <td>NaN</td>\n",
       "      <td>NaN</td>\n",
       "      <td>NaN</td>\n",
       "      <td>NaN</td>\n",
       "    </tr>\n",
       "    <tr>\n",
       "      <th>Auckland</th>\n",
       "      <td>New Zealand</td>\n",
       "      <td>Business</td>\n",
       "      <td>9980.0</td>\n",
       "      <td>10673.0</td>\n",
       "      <td>13/07/2018</td>\n",
       "      <td>12/08/2018</td>\n",
       "    </tr>\n",
       "  </tbody>\n",
       "</table>\n",
       "</div>"
      ],
      "text/plain": [
       "            Dest_Country     Cabin    Price  Price_tax UseDuration_Start  \\\n",
       "Destination                                                                \n",
       "Adelaide             NaN       NaN      NaN        NaN               NaN   \n",
       "Adelaide       Australia  Business  23080.0    24072.0        04/08/2018   \n",
       "Adelaide             NaN       NaN      NaN        NaN               NaN   \n",
       "Auckland             NaN       NaN      NaN        NaN               NaN   \n",
       "Auckland     New Zealand  Business   9980.0    10673.0        13/07/2018   \n",
       "\n",
       "            UseDuration_End  \n",
       "Destination                  \n",
       "Adelaide                NaN  \n",
       "Adelaide         29/08/2018  \n",
       "Adelaide                NaN  \n",
       "Auckland                NaN  \n",
       "Auckland         12/08/2018  "
      ]
     },
     "execution_count": 68,
     "metadata": {},
     "output_type": "execute_result"
    }
   ],
   "source": [
    "only_business = df.where(df['Cabin'] == 'Business')\n",
    "only_business.head()"
   ]
  },
  {
   "cell_type": "code",
   "execution_count": 69,
   "metadata": {},
   "outputs": [
    {
     "data": {
      "text/plain": [
       "5"
      ]
     },
     "execution_count": 69,
     "metadata": {},
     "output_type": "execute_result"
    }
   ],
   "source": [
    "only_business['Cabin'].count()"
   ]
  },
  {
   "cell_type": "code",
   "execution_count": 70,
   "metadata": {},
   "outputs": [
    {
     "data": {
      "text/plain": [
       "69"
      ]
     },
     "execution_count": 70,
     "metadata": {},
     "output_type": "execute_result"
    }
   ],
   "source": [
    "df['Cabin'].count()"
   ]
  },
  {
   "cell_type": "code",
   "execution_count": 71,
   "metadata": {},
   "outputs": [
    {
     "data": {
      "text/html": [
       "<div>\n",
       "<style scoped>\n",
       "    .dataframe tbody tr th:only-of-type {\n",
       "        vertical-align: middle;\n",
       "    }\n",
       "\n",
       "    .dataframe tbody tr th {\n",
       "        vertical-align: top;\n",
       "    }\n",
       "\n",
       "    .dataframe thead th {\n",
       "        text-align: right;\n",
       "    }\n",
       "</style>\n",
       "<table border=\"1\" class=\"dataframe\">\n",
       "  <thead>\n",
       "    <tr style=\"text-align: right;\">\n",
       "      <th></th>\n",
       "      <th>Dest_Country</th>\n",
       "      <th>Cabin</th>\n",
       "      <th>Price</th>\n",
       "      <th>Price_tax</th>\n",
       "      <th>UseDuration_Start</th>\n",
       "      <th>UseDuration_End</th>\n",
       "    </tr>\n",
       "    <tr>\n",
       "      <th>Destination</th>\n",
       "      <th></th>\n",
       "      <th></th>\n",
       "      <th></th>\n",
       "      <th></th>\n",
       "      <th></th>\n",
       "      <th></th>\n",
       "    </tr>\n",
       "  </thead>\n",
       "  <tbody>\n",
       "    <tr>\n",
       "      <th>Adelaide</th>\n",
       "      <td>Australia</td>\n",
       "      <td>Business</td>\n",
       "      <td>23080.0</td>\n",
       "      <td>24072.0</td>\n",
       "      <td>04/08/2018</td>\n",
       "      <td>29/08/2018</td>\n",
       "    </tr>\n",
       "    <tr>\n",
       "      <th>Auckland</th>\n",
       "      <td>New Zealand</td>\n",
       "      <td>Business</td>\n",
       "      <td>9980.0</td>\n",
       "      <td>10673.0</td>\n",
       "      <td>13/07/2018</td>\n",
       "      <td>12/08/2018</td>\n",
       "    </tr>\n",
       "    <tr>\n",
       "      <th>Cebu</th>\n",
       "      <td>Philippines</td>\n",
       "      <td>Business</td>\n",
       "      <td>4460.0</td>\n",
       "      <td>4790.0</td>\n",
       "      <td>07/09/2018</td>\n",
       "      <td>20/09/2018</td>\n",
       "    </tr>\n",
       "    <tr>\n",
       "      <th>Phuket</th>\n",
       "      <td>Thailand</td>\n",
       "      <td>Business</td>\n",
       "      <td>4430.0</td>\n",
       "      <td>4960.0</td>\n",
       "      <td>01/09/2018</td>\n",
       "      <td>17/09/2018</td>\n",
       "    </tr>\n",
       "    <tr>\n",
       "      <th>Taipei</th>\n",
       "      <td>Taiwan</td>\n",
       "      <td>Business</td>\n",
       "      <td>3840.0</td>\n",
       "      <td>4286.0</td>\n",
       "      <td>01/07/2018</td>\n",
       "      <td>31/07/2018</td>\n",
       "    </tr>\n",
       "  </tbody>\n",
       "</table>\n",
       "</div>"
      ],
      "text/plain": [
       "            Dest_Country     Cabin    Price  Price_tax UseDuration_Start  \\\n",
       "Destination                                                                \n",
       "Adelaide       Australia  Business  23080.0    24072.0        04/08/2018   \n",
       "Auckland     New Zealand  Business   9980.0    10673.0        13/07/2018   \n",
       "Cebu         Philippines  Business   4460.0     4790.0        07/09/2018   \n",
       "Phuket          Thailand  Business   4430.0     4960.0        01/09/2018   \n",
       "Taipei            Taiwan  Business   3840.0     4286.0        01/07/2018   \n",
       "\n",
       "            UseDuration_End  \n",
       "Destination                  \n",
       "Adelaide         29/08/2018  \n",
       "Auckland         12/08/2018  \n",
       "Cebu             20/09/2018  \n",
       "Phuket           17/09/2018  \n",
       "Taipei           31/07/2018  "
      ]
     },
     "execution_count": 71,
     "metadata": {},
     "output_type": "execute_result"
    }
   ],
   "source": [
    "only_business = only_business.dropna()\n",
    "only_business.head()"
   ]
  },
  {
   "cell_type": "code",
   "execution_count": 72,
   "metadata": {},
   "outputs": [
    {
     "data": {
      "text/html": [
       "<div>\n",
       "<style scoped>\n",
       "    .dataframe tbody tr th:only-of-type {\n",
       "        vertical-align: middle;\n",
       "    }\n",
       "\n",
       "    .dataframe tbody tr th {\n",
       "        vertical-align: top;\n",
       "    }\n",
       "\n",
       "    .dataframe thead th {\n",
       "        text-align: right;\n",
       "    }\n",
       "</style>\n",
       "<table border=\"1\" class=\"dataframe\">\n",
       "  <thead>\n",
       "    <tr style=\"text-align: right;\">\n",
       "      <th></th>\n",
       "      <th>Dest_Country</th>\n",
       "      <th>Cabin</th>\n",
       "      <th>Price</th>\n",
       "      <th>Price_tax</th>\n",
       "      <th>UseDuration_Start</th>\n",
       "      <th>UseDuration_End</th>\n",
       "    </tr>\n",
       "    <tr>\n",
       "      <th>Destination</th>\n",
       "      <th></th>\n",
       "      <th></th>\n",
       "      <th></th>\n",
       "      <th></th>\n",
       "      <th></th>\n",
       "      <th></th>\n",
       "    </tr>\n",
       "  </thead>\n",
       "  <tbody>\n",
       "    <tr>\n",
       "      <th>Adelaide</th>\n",
       "      <td>Australia</td>\n",
       "      <td>Business</td>\n",
       "      <td>23080.0</td>\n",
       "      <td>24072.0</td>\n",
       "      <td>04/08/2018</td>\n",
       "      <td>29/08/2018</td>\n",
       "    </tr>\n",
       "    <tr>\n",
       "      <th>Auckland</th>\n",
       "      <td>New Zealand</td>\n",
       "      <td>Business</td>\n",
       "      <td>9980.0</td>\n",
       "      <td>10673.0</td>\n",
       "      <td>13/07/2018</td>\n",
       "      <td>12/08/2018</td>\n",
       "    </tr>\n",
       "    <tr>\n",
       "      <th>Cebu</th>\n",
       "      <td>Philippines</td>\n",
       "      <td>Business</td>\n",
       "      <td>4460.0</td>\n",
       "      <td>4790.0</td>\n",
       "      <td>07/09/2018</td>\n",
       "      <td>20/09/2018</td>\n",
       "    </tr>\n",
       "    <tr>\n",
       "      <th>Phuket</th>\n",
       "      <td>Thailand</td>\n",
       "      <td>Business</td>\n",
       "      <td>4430.0</td>\n",
       "      <td>4960.0</td>\n",
       "      <td>01/09/2018</td>\n",
       "      <td>17/09/2018</td>\n",
       "    </tr>\n",
       "    <tr>\n",
       "      <th>Taipei</th>\n",
       "      <td>Taiwan</td>\n",
       "      <td>Business</td>\n",
       "      <td>3840.0</td>\n",
       "      <td>4286.0</td>\n",
       "      <td>01/07/2018</td>\n",
       "      <td>31/07/2018</td>\n",
       "    </tr>\n",
       "  </tbody>\n",
       "</table>\n",
       "</div>"
      ],
      "text/plain": [
       "            Dest_Country     Cabin    Price  Price_tax UseDuration_Start  \\\n",
       "Destination                                                                \n",
       "Adelaide       Australia  Business  23080.0    24072.0        04/08/2018   \n",
       "Auckland     New Zealand  Business   9980.0    10673.0        13/07/2018   \n",
       "Cebu         Philippines  Business   4460.0     4790.0        07/09/2018   \n",
       "Phuket          Thailand  Business   4430.0     4960.0        01/09/2018   \n",
       "Taipei            Taiwan  Business   3840.0     4286.0        01/07/2018   \n",
       "\n",
       "            UseDuration_End  \n",
       "Destination                  \n",
       "Adelaide         29/08/2018  \n",
       "Auckland         12/08/2018  \n",
       "Cebu             20/09/2018  \n",
       "Phuket           17/09/2018  \n",
       "Taipei           31/07/2018  "
      ]
     },
     "execution_count": 72,
     "metadata": {},
     "output_type": "execute_result"
    }
   ],
   "source": [
    "only_business = df[df['Cabin'] == 'Business']\n",
    "only_business.head()"
   ]
  },
  {
   "cell_type": "code",
   "execution_count": 73,
   "metadata": {},
   "outputs": [
    {
     "data": {
      "text/plain": [
       "24"
      ]
     },
     "execution_count": 73,
     "metadata": {},
     "output_type": "execute_result"
    }
   ],
   "source": [
    "len(df[(df['Cabin'] == 'Business') | (df['Price_tax'] > 4000)])"
   ]
  },
  {
   "cell_type": "markdown",
   "metadata": {},
   "source": [
    "# Exercise 4"
   ]
  },
  {
   "cell_type": "markdown",
   "metadata": {},
   "source": [
    "Obtain a fanfare record dataset with Business Cabin and price after tax over $10000."
   ]
  },
  {
   "cell_type": "code",
   "execution_count": 74,
   "metadata": {},
   "outputs": [
    {
     "data": {
      "text/html": [
       "<div>\n",
       "<style scoped>\n",
       "    .dataframe tbody tr th:only-of-type {\n",
       "        vertical-align: middle;\n",
       "    }\n",
       "\n",
       "    .dataframe tbody tr th {\n",
       "        vertical-align: top;\n",
       "    }\n",
       "\n",
       "    .dataframe thead th {\n",
       "        text-align: right;\n",
       "    }\n",
       "</style>\n",
       "<table border=\"1\" class=\"dataframe\">\n",
       "  <thead>\n",
       "    <tr style=\"text-align: right;\">\n",
       "      <th></th>\n",
       "      <th>Dest_Country</th>\n",
       "      <th>Cabin</th>\n",
       "      <th>Price</th>\n",
       "      <th>Price_tax</th>\n",
       "      <th>UseDuration_Start</th>\n",
       "      <th>UseDuration_End</th>\n",
       "    </tr>\n",
       "    <tr>\n",
       "      <th>Destination</th>\n",
       "      <th></th>\n",
       "      <th></th>\n",
       "      <th></th>\n",
       "      <th></th>\n",
       "      <th></th>\n",
       "      <th></th>\n",
       "    </tr>\n",
       "  </thead>\n",
       "  <tbody>\n",
       "    <tr>\n",
       "      <th>Adelaide</th>\n",
       "      <td>Australia</td>\n",
       "      <td>Business</td>\n",
       "      <td>23080.0</td>\n",
       "      <td>24072.0</td>\n",
       "      <td>04/08/2018</td>\n",
       "      <td>29/08/2018</td>\n",
       "    </tr>\n",
       "    <tr>\n",
       "      <th>Auckland</th>\n",
       "      <td>New Zealand</td>\n",
       "      <td>Business</td>\n",
       "      <td>9980.0</td>\n",
       "      <td>10673.0</td>\n",
       "      <td>13/07/2018</td>\n",
       "      <td>12/08/2018</td>\n",
       "    </tr>\n",
       "  </tbody>\n",
       "</table>\n",
       "</div>"
      ],
      "text/plain": [
       "            Dest_Country     Cabin    Price  Price_tax UseDuration_Start  \\\n",
       "Destination                                                                \n",
       "Adelaide       Australia  Business  23080.0    24072.0        04/08/2018   \n",
       "Auckland     New Zealand  Business   9980.0    10673.0        13/07/2018   \n",
       "\n",
       "            UseDuration_End  \n",
       "Destination                  \n",
       "Adelaide         29/08/2018  \n",
       "Auckland         12/08/2018  "
      ]
     },
     "execution_count": 74,
     "metadata": {},
     "output_type": "execute_result"
    }
   ],
   "source": [
    "df[(df['Cabin'] == 'Business') & (df['Price_tax'] > 10000)]"
   ]
  },
  {
   "cell_type": "markdown",
   "metadata": {},
   "source": [
    "# More Reference"
   ]
  },
  {
   "cell_type": "markdown",
   "metadata": {},
   "source": [
    "https://openflights.org/data.html <br>\n",
    "https://www.kaggle.com/c/expedia-hotel-recommendations"
   ]
  },
  {
   "cell_type": "markdown",
   "metadata": {},
   "source": [
    "# Indexing Dataframes"
   ]
  },
  {
   "cell_type": "code",
   "execution_count": null,
   "metadata": {},
   "outputs": [],
   "source": [
    "df.head()"
   ]
  },
  {
   "cell_type": "code",
   "execution_count": null,
   "metadata": {},
   "outputs": [],
   "source": [
    "df['Destination'] = df.index\n",
    "df = df.set_index('Dest_Country')\n",
    "df.head()"
   ]
  },
  {
   "cell_type": "code",
   "execution_count": null,
   "metadata": {},
   "outputs": [],
   "source": [
    "df = df.reset_index()\n",
    "df.head()"
   ]
  },
  {
   "cell_type": "code",
   "execution_count": null,
   "metadata": {},
   "outputs": [],
   "source": [
    "df['Dest_Country'].unique()"
   ]
  },
  {
   "cell_type": "code",
   "execution_count": null,
   "metadata": {},
   "outputs": [],
   "source": [
    "df=df[df['Cabin']=='Economy']\n",
    "df.head()"
   ]
  },
  {
   "cell_type": "code",
   "execution_count": null,
   "metadata": {},
   "outputs": [],
   "source": [
    "columns_to_keep = ['Dest_Country',\n",
    "                   'Destination',\n",
    "                   'Price_tax',\n",
    "                   'UseDuration_Start',\n",
    "                   'UseDuration_End']\n",
    "df = df[columns_to_keep]\n",
    "df.head()"
   ]
  },
  {
   "cell_type": "code",
   "execution_count": null,
   "metadata": {},
   "outputs": [],
   "source": [
    "df = df.set_index(['Dest_Country', 'Destination'])\n",
    "df.head()"
   ]
  },
  {
   "cell_type": "code",
   "execution_count": null,
   "metadata": {},
   "outputs": [],
   "source": [
    "df.loc[['Taiwan', 'Taipei']]"
   ]
  },
  {
   "cell_type": "markdown",
   "metadata": {},
   "source": [
    "# Exercise 5"
   ]
  },
  {
   "cell_type": "markdown",
   "metadata": {},
   "source": [
    "Obtain a dataset with (Japan, Fukuoka) and (Japan, Nagoya)."
   ]
  },
  {
   "cell_type": "code",
   "execution_count": null,
   "metadata": {},
   "outputs": [],
   "source": [
    "# ..."
   ]
  },
  {
   "cell_type": "markdown",
   "metadata": {},
   "source": [
    "# Missing values"
   ]
  },
  {
   "cell_type": "code",
   "execution_count": null,
   "metadata": {},
   "outputs": [],
   "source": [
    "df = pd.read_csv('fanfares.csv')\n",
    "df_tpe = df[df['Destination']=='Taipei']\n",
    "df_tpe['Date_start'] = pd.to_datetime(df_tpe['Date_start'], format=\"%d/%m/%Y\")\n",
    "df_tpe['Date_end'] = pd.to_datetime(df_tpe['Date_end'], format=\"%d/%m/%Y\")\n",
    "df_tpe"
   ]
  },
  {
   "cell_type": "code",
   "execution_count": null,
   "metadata": {},
   "outputs": [],
   "source": [
    "df_tpe.fillna?"
   ]
  },
  {
   "cell_type": "code",
   "execution_count": null,
   "metadata": {},
   "outputs": [],
   "source": [
    "df_tpe = df_tpe.set_index('Date_start')\n",
    "df_tpe = df_tpe.sort_index()\n",
    "df_tpe"
   ]
  },
  {
   "cell_type": "code",
   "execution_count": null,
   "metadata": {},
   "outputs": [],
   "source": [
    "import datetime as dt\n",
    "pd.to_datetime(df_tpe.index)"
   ]
  },
  {
   "cell_type": "code",
   "execution_count": null,
   "metadata": {},
   "outputs": [],
   "source": [
    "type(df_tpe.index[0])"
   ]
  },
  {
   "cell_type": "code",
   "execution_count": null,
   "metadata": {},
   "outputs": [],
   "source": [
    "df_tpe = df_tpe.reset_index()\n",
    "df_tpe = df_tpe.set_index(['Cabin', 'Date_start'])\n",
    "df_tpe"
   ]
  },
  {
   "cell_type": "code",
   "execution_count": null,
   "metadata": {},
   "outputs": [],
   "source": [
    "df_tpe = df_tpe.fillna(method='ffill')\n",
    "df_tpe"
   ]
  }
 ],
 "metadata": {
  "kernelspec": {
   "display_name": "Python 3",
   "language": "python",
   "name": "python3"
  },
  "language_info": {
   "codemirror_mode": {
    "name": "ipython",
    "version": 3
   },
   "file_extension": ".py",
   "mimetype": "text/x-python",
   "name": "python",
   "nbconvert_exporter": "python",
   "pygments_lexer": "ipython3",
   "version": "3.6.4"
  }
 },
 "nbformat": 4,
 "nbformat_minor": 1
}
