{
 "cells": [
  {
   "cell_type": "markdown",
   "metadata": {},
   "source": [
    "# Basic Plotting with matplotlib"
   ]
  },
  {
   "cell_type": "markdown",
   "metadata": {},
   "source": [
    "You can show matplotlib figures directly in the notebook by using the `%matplotlib notebook` and `%matplotlib inline` magic commands. \n",
    "\n",
    "`%matplotlib notebook` provides an interactive environment."
   ]
  },
  {
   "cell_type": "code",
   "execution_count": null,
   "metadata": {},
   "outputs": [],
   "source": [
    "%matplotlib notebook"
   ]
  },
  {
   "cell_type": "markdown",
   "metadata": {},
   "source": [
    "Magic Command <br>\n",
    "http://ipython.readthedocs.io/en/stable/interactive/magics.html"
   ]
  },
  {
   "cell_type": "code",
   "execution_count": null,
   "metadata": {
    "scrolled": true
   },
   "outputs": [],
   "source": [
    "import matplotlib.pyplot as plt\n",
    "plt.plot(3, 2)"
   ]
  },
  {
   "cell_type": "code",
   "execution_count": null,
   "metadata": {},
   "outputs": [],
   "source": [
    "plt.plot(3, 2, '.')"
   ]
  },
  {
   "cell_type": "code",
   "execution_count": null,
   "metadata": {
    "scrolled": true
   },
   "outputs": [],
   "source": [
    "# create a new figure\n",
    "fig = plt.figure()\n",
    "# add a subplot to the fig\n",
    "ax = fig.add_subplot(111)\n",
    "# plot the point (3,2)\n",
    "ax.plot(3, 2, '.')\n",
    "# Set axis properties [xmin, xmax, ymin, ymax]\n",
    "ax.axis([0,6,0,10])"
   ]
  },
  {
   "cell_type": "code",
   "execution_count": null,
   "metadata": {},
   "outputs": [],
   "source": [
    "# create a new figure\n",
    "plt.figure()\n",
    "# plot the point (3,2) using the circle marker\n",
    "plt.plot(3, 2, 'o')\n",
    "# get the current axes\n",
    "ax = plt.gca()\n",
    "# Set axis properties [xmin, xmax, ymin, ymax]\n",
    "ax.axis([0,6,0,10])"
   ]
  },
  {
   "cell_type": "code",
   "execution_count": null,
   "metadata": {
    "scrolled": false
   },
   "outputs": [],
   "source": [
    "# create a new figure\n",
    "plt.figure()\n",
    "\n",
    "# plot the point (1.5, 1.5) using the circle marker\n",
    "plt.plot(1.5, 1.5, 'o')\n",
    "# plot the point (2, 2) using the circle marker\n",
    "plt.plot(2, 2, 'o')\n",
    "# plot the point (2.5, 2.5) using the circle marker\n",
    "plt.plot(2.5, 2.5, 'o')"
   ]
  },
  {
   "cell_type": "markdown",
   "metadata": {},
   "source": [
    "Try Different kinds of colours and point type <br>\n",
    "https://matplotlib.org/api/_as_gen/matplotlib.pyplot.plot.html"
   ]
  },
  {
   "cell_type": "markdown",
   "metadata": {},
   "source": [
    "# Exercise 1"
   ]
  },
  {
   "cell_type": "markdown",
   "metadata": {},
   "source": [
    "Try to make a plot:\n",
    "* with points (1,1), (2,4), (3,9), (4,16)\n",
    "* with red and circle marker\n",
    "* with x-axis limit (0,6) and y-axis limit (0,20)"
   ]
  },
  {
   "cell_type": "code",
   "execution_count": null,
   "metadata": {},
   "outputs": [],
   "source": [
    "# ..."
   ]
  },
  {
   "cell_type": "markdown",
   "metadata": {},
   "source": [
    "# Getting Data from Yahoo Finance"
   ]
  },
  {
   "cell_type": "markdown",
   "metadata": {},
   "source": [
    "Previously we use pandas_datareader to get any data <br>\n",
    "<br>\n",
    "Help website of pandas_datareader library <br>\n",
    "http://pandas-datareader.readthedocs.io/en/latest/remote_data.html#google-finance <br>\n",
    "<br>\n",
    "Now we need to install fix-yahoo-finance as add-in <br>\n",
    "https://pypi.org/project/fix-yahoo-finance/"
   ]
  },
  {
   "cell_type": "code",
   "execution_count": null,
   "metadata": {
    "scrolled": false
   },
   "outputs": [],
   "source": [
    "from pandas_datareader import data as pdr\n",
    "import fix_yahoo_finance as yf\n",
    "yf.pdr_override()\n",
    "\n",
    "# download dataframe\n",
    "df_HSI = pdr.get_data_yahoo(\"^HSI\", start=\"2018-01-01\", end=\"2018-06-30\")\n",
    "df_5 = pdr.get_data_yahoo(\"0005.HK\", start=\"2018-01-01\", end=\"2018-06-30\")\n",
    "\n",
    "import pandas as pd\n",
    "df = pd.merge(df_HSI, df_5, left_index=True, right_index=True, suffixes=['HSI','5'])"
   ]
  },
  {
   "cell_type": "code",
   "execution_count": null,
   "metadata": {},
   "outputs": [],
   "source": [
    "df.info()"
   ]
  },
  {
   "cell_type": "markdown",
   "metadata": {},
   "source": [
    "# Scatter Plots"
   ]
  },
  {
   "cell_type": "code",
   "execution_count": null,
   "metadata": {},
   "outputs": [],
   "source": [
    "%matplotlib notebook\n",
    "\n",
    "import numpy as np\n",
    "\n",
    "x = df['CloseHSI']\n",
    "y = df['Close5']\n",
    "\n",
    "# create a list of colors for each point to have\n",
    "# ['green', 'green', 'green', 'green', 'green', 'green', 'green', last one is 'red']\n",
    "colors = ['green']*(len(x)-1)\n",
    "colors.append('red')\n",
    "\n",
    "import matplotlib.pyplot as plt\n",
    "fig, ax = plt.subplots()\n",
    "# same as fig = plt.figure() ; ax = fig.add_subplot(111)\n",
    "\n",
    "# plot the point with size 100 and chosen colors\n",
    "ax.scatter(x, y, s=100, c=colors)"
   ]
  },
  {
   "cell_type": "code",
   "execution_count": null,
   "metadata": {
    "scrolled": true
   },
   "outputs": [],
   "source": [
    "# add a label to the x axis\n",
    "ax.set_xlabel('Closing Price of HSI')\n",
    "# add a label to the y axis\n",
    "ax.set_ylabel('Closing Price of 0005.HK')\n",
    "# add a title\n",
    "ax.set_title('Relationship between HSI and 0005.HK')"
   ]
  },
  {
   "cell_type": "code",
   "execution_count": null,
   "metadata": {},
   "outputs": [],
   "source": [
    "# Actually no need to do so difficult...\n",
    "import pandas as pd\n",
    "import matplotlib.pyplot as plt\n",
    "\n",
    "ax = df.plot('CloseHSI', 'Close5', kind='scatter', s=100, c=colors)"
   ]
  },
  {
   "cell_type": "markdown",
   "metadata": {},
   "source": [
    "# Line Plots"
   ]
  },
  {
   "cell_type": "code",
   "execution_count": null,
   "metadata": {
    "scrolled": false
   },
   "outputs": [],
   "source": [
    "import numpy as np\n",
    "\n",
    "HSIdate = df.index.values\n",
    "HSIClose = df['CloseHSI']\n",
    "HSI_MA20 = df['CloseHSI'].rolling(window=20).mean()\n",
    "\n",
    "fig, ax = plt.subplots()\n",
    "# plot the linear data and the exponential data\n",
    "ax.plot(HSIdate, HSIClose, '-o', HSIdate, HSI_MA20, '--')"
   ]
  },
  {
   "cell_type": "code",
   "execution_count": null,
   "metadata": {},
   "outputs": [],
   "source": [
    "ax.set_xlabel('Date')\n",
    "ax.set_ylabel('HSI Close')\n",
    "ax.set_title('Time Series of HSI')\n",
    "\n",
    "ax.legend(['Close', 'MA(20)'])"
   ]
  },
  {
   "cell_type": "code",
   "execution_count": null,
   "metadata": {},
   "outputs": [],
   "source": [
    "# Again, no need to do so difficult...\n",
    "import pandas as pd\n",
    "import matplotlib.pyplot as plt\n",
    "\n",
    "df2 = df.copy()\n",
    "df2['CloseHSI_MA20'] = df2['CloseHSI'].rolling(window=20).mean()\n",
    "ax = df2.plot(y=['CloseHSI', 'CloseHSI_MA20'])"
   ]
  },
  {
   "cell_type": "markdown",
   "metadata": {},
   "source": [
    "You can also choose the plot kind by using the `DataFrame.plot.kind` methods instead of providing the `kind` keyword argument.\n",
    "\n",
    "`kind` :\n",
    "- `'line'` : line plot (default)\n",
    "- `'bar'` : vertical bar plot\n",
    "- `'barh'` : horizontal bar plot\n",
    "- `'hist'` : histogram\n",
    "- `'box'` : boxplot\n",
    "- `'kde'` : Kernel Density Estimation plot\n",
    "- `'density'` : same as 'kde'\n",
    "- `'area'` : area plot\n",
    "- `'pie'` : pie plot\n",
    "- `'scatter'` : scatter plot\n",
    "- `'hexbin'` : hexbin plot\n",
    "\n",
    "For further reference: <br>\n",
    "https://pandas.pydata.org/pandas-docs/stable/visualization.html"
   ]
  },
  {
   "cell_type": "markdown",
   "metadata": {},
   "source": [
    "# Bar Plots"
   ]
  },
  {
   "cell_type": "code",
   "execution_count": null,
   "metadata": {
    "scrolled": true
   },
   "outputs": [],
   "source": [
    "df_tail = df.tail()\n",
    "\n",
    "fig, ax = plt.subplots()\n",
    "ax.bar(df_tail.index.values, df_tail['Volume5']/1e6, width = 0.3)\n",
    "\n",
    "ax.set_xlabel('Date')\n",
    "ax.set_ylabel('0005.HK Volume ($M)')\n",
    "ax.set_title('0005.HK Volume against Date')"
   ]
  },
  {
   "cell_type": "code",
   "execution_count": null,
   "metadata": {},
   "outputs": [],
   "source": [
    "ax = df.plot(y='Volume5', kind='bar')"
   ]
  },
  {
   "cell_type": "code",
   "execution_count": null,
   "metadata": {},
   "outputs": [],
   "source": [
    "# rotate the tick labels for the x axis\n",
    "for item in ax.xaxis.get_ticklabels():\n",
    "    item.set_rotation(45)"
   ]
  },
  {
   "cell_type": "markdown",
   "metadata": {},
   "source": [
    "More Reference: <br>\n",
    "https://matplotlib.org/api/_as_gen/matplotlib.pyplot.bar.html"
   ]
  },
  {
   "cell_type": "markdown",
   "metadata": {},
   "source": [
    "# Exercise 2"
   ]
  },
  {
   "cell_type": "markdown",
   "metadata": {},
   "source": [
    "Try to plot the following information 0700.HK from 2018-07-01 to 2018-08-01:\n",
    "* Daily Close\n",
    "* MA(10) line\n",
    "* Daily Volume"
   ]
  },
  {
   "cell_type": "code",
   "execution_count": null,
   "metadata": {},
   "outputs": [],
   "source": [
    "from pandas_datareader import data as pdr\n",
    "import fix_yahoo_finance as yf\n",
    "yf.pdr_override()\n",
    "\n",
    "df_700 = pdr.get_data_yahoo(\"0700.HK\", start=\"2018-07-01\", end=\"2018-08-01\")\n",
    "\n",
    "Date700 = df_700.index.values\n",
    "Close700 = df_700['Close']\n",
    "MA10_700 = df_700['Close'].rolling(window=10).mean()\n",
    "Volume700 = df_700['Volume']"
   ]
  },
  {
   "cell_type": "code",
   "execution_count": null,
   "metadata": {},
   "outputs": [],
   "source": [
    "import matplotlib.pyplot as plt\n",
    "%matplotlib notebook\n",
    "# ..."
   ]
  },
  {
   "cell_type": "markdown",
   "metadata": {},
   "source": [
    "# Histograms & Box Plots"
   ]
  },
  {
   "cell_type": "code",
   "execution_count": null,
   "metadata": {},
   "outputs": [],
   "source": [
    "from pandas_datareader import data as pdr\n",
    "import fix_yahoo_finance as yf\n",
    "yf.pdr_override()\n",
    "\n",
    "# download dataframe\n",
    "df_HSI = pdr.get_data_yahoo(\"^HSI\", start=\"2018-01-01\", end=\"2018-06-30\")\n",
    "df_5 = pdr.get_data_yahoo(\"0005.HK\", start=\"2018-01-01\", end=\"2018-06-30\")\n",
    "\n",
    "import pandas as pd\n",
    "df = pd.merge(df_HSI, df_5, left_index=True, right_index=True, suffixes=['HSI','5'])"
   ]
  },
  {
   "cell_type": "code",
   "execution_count": null,
   "metadata": {
    "scrolled": false
   },
   "outputs": [],
   "source": [
    "# create 2x2 grid of axis subplots\n",
    "fig, ((ax1, ax2), (ax3, ax4)) = plt.subplots(2, 2)\n",
    "axs = [ax1,ax2,ax3,ax4]\n",
    "\n",
    "axs[0].hist(df['CloseHSI'].values, bins=5)\n",
    "axs[1].boxplot(df['CloseHSI'], whis='range')\n",
    "axs[2].hist(df['Close5'].values, bins=5)\n",
    "axs[3].boxplot(df['Close5'], whis='range')"
   ]
  },
  {
   "cell_type": "code",
   "execution_count": null,
   "metadata": {},
   "outputs": [],
   "source": [
    "axs[0] = df.plot.hist('CloseHSI')\n",
    "axs[1] = df.plot.box('CloseHSI', whis='range')"
   ]
  },
  {
   "cell_type": "code",
   "execution_count": null,
   "metadata": {},
   "outputs": [],
   "source": [
    "df.plot.kde('CloseHSI')"
   ]
  },
  {
   "cell_type": "markdown",
   "metadata": {},
   "source": [
    "# Heatmaps"
   ]
  },
  {
   "cell_type": "code",
   "execution_count": null,
   "metadata": {
    "scrolled": true
   },
   "outputs": [],
   "source": [
    "fig, (ax1, ax2) = plt.subplots(1,2)\n",
    "\n",
    "Y = np.random.normal(loc=0.0, scale=1.0, size=10000)\n",
    "X = np.random.random(size=10000)\n",
    "h1 = ax1.hist2d(X, Y, bins=25)"
   ]
  },
  {
   "cell_type": "code",
   "execution_count": null,
   "metadata": {},
   "outputs": [],
   "source": [
    "h2 = ax2.hist2d(X, Y, bins=100)\n",
    "# this object: counts, xedges, yedges, im"
   ]
  },
  {
   "cell_type": "code",
   "execution_count": null,
   "metadata": {
    "scrolled": true
   },
   "outputs": [],
   "source": [
    "plt.colorbar(h2[3], ax=ax2)"
   ]
  },
  {
   "cell_type": "markdown",
   "metadata": {},
   "source": [
    "# Exercise 3"
   ]
  },
  {
   "cell_type": "markdown",
   "metadata": {},
   "source": [
    "Try to transform daily % change of HSI and 0005.HK, i.e., (Close.shift(1) - Close) / prices <br>\n",
    "and create plots:\n",
    "* Histograms\n",
    "* Boxplots\n",
    "* Heat map between their returns"
   ]
  },
  {
   "cell_type": "code",
   "execution_count": null,
   "metadata": {},
   "outputs": [],
   "source": [
    "# ..."
   ]
  },
  {
   "cell_type": "code",
   "execution_count": null,
   "metadata": {},
   "outputs": [],
   "source": [
    "# or the following\n",
    "import seaborn as sns\n",
    "\n",
    "sns.heatmap(df[ ['R_HSI', 'R_5'] ])"
   ]
  },
  {
   "cell_type": "markdown",
   "metadata": {},
   "source": [
    "# Seaborn\n",
    "Feel like ggplot in R <br>\n",
    "https://seaborn.pydata.org/index.html"
   ]
  },
  {
   "cell_type": "code",
   "execution_count": null,
   "metadata": {},
   "outputs": [],
   "source": [
    "import numpy as np\n",
    "import pandas as pd\n",
    "import matplotlib.pyplot as plt\n",
    "import seaborn as sns\n",
    "\n",
    "%matplotlib notebook"
   ]
  },
  {
   "cell_type": "code",
   "execution_count": null,
   "metadata": {},
   "outputs": [],
   "source": [
    "np.random.seed(1234)\n",
    "\n",
    "v1 = pd.Series(np.random.normal(0,10,1000), name='v1')\n",
    "v2 = pd.Series(2*v1 + np.random.normal(60,15,1000), name='v2')\n",
    "\n",
    "plt.figure()\n",
    "plt.hist(v1, alpha=0.7, bins=np.arange(-50,150,5), label='v1');\n",
    "plt.hist(v2, alpha=0.7, bins=np.arange(-50,150,5), label='v2');\n",
    "plt.legend();"
   ]
  },
  {
   "cell_type": "markdown",
   "metadata": {},
   "source": [
    "kdeplot"
   ]
  },
  {
   "cell_type": "code",
   "execution_count": null,
   "metadata": {
    "scrolled": true
   },
   "outputs": [],
   "source": [
    "# plot a kernel density estimation over a stacked barchart\n",
    "plt.figure()\n",
    "plt.hist([v1, v2], histtype='barstacked', normed=True);\n",
    "v3 = np.concatenate((v1,v2))\n",
    "sns.kdeplot(v3);"
   ]
  },
  {
   "cell_type": "markdown",
   "metadata": {},
   "source": [
    "jointplot"
   ]
  },
  {
   "cell_type": "code",
   "execution_count": null,
   "metadata": {},
   "outputs": [],
   "source": [
    "sns.jointplot(v1, v2, alpha=0.4);"
   ]
  },
  {
   "cell_type": "code",
   "execution_count": null,
   "metadata": {},
   "outputs": [],
   "source": [
    "grid = sns.jointplot(v1, v2, alpha=0.4);\n",
    "grid.ax_joint.set_aspect('equal')"
   ]
  },
  {
   "cell_type": "markdown",
   "metadata": {},
   "source": [
    "# Exercise 4"
   ]
  },
  {
   "cell_type": "markdown",
   "metadata": {},
   "source": [
    "Ref: https://seaborn.pydata.org/generated/seaborn.jointplot.html <br>\n",
    "Repeat the above example and try kind = 'hex' or 'reg' or 'kde'"
   ]
  },
  {
   "cell_type": "code",
   "execution_count": null,
   "metadata": {},
   "outputs": [],
   "source": [
    "# ..."
   ]
  }
 ],
 "metadata": {
  "kernelspec": {
   "display_name": "Python 3",
   "language": "python",
   "name": "python3"
  },
  "language_info": {
   "codemirror_mode": {
    "name": "ipython",
    "version": 3
   },
   "file_extension": ".py",
   "mimetype": "text/x-python",
   "name": "python",
   "nbconvert_exporter": "python",
   "pygments_lexer": "ipython3",
   "version": "3.6.4"
  }
 },
 "nbformat": 4,
 "nbformat_minor": 2
}
